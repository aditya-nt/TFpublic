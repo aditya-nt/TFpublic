{
  "nbformat": 4,
  "nbformat_minor": 0,
  "metadata": {
    "colab": {
      "name": "FinalProject-Introduction to Deep Learning & Neural Networks with Keras.ipynb",
      "provenance": [],
      "authorship_tag": "ABX9TyOmneJuFAEyU9Y87O3lFWfo",
      "include_colab_link": true
    },
    "kernelspec": {
      "name": "python3",
      "display_name": "Python 3"
    }
  },
  "cells": [
    {
      "cell_type": "markdown",
      "metadata": {
        "id": "view-in-github",
        "colab_type": "text"
      },
      "source": [
        "<a href=\"https://colab.research.google.com/github/aditya-nt/TFpublic/blob/master/AI-Engineering/Keras/FinalProject_Introduction_to_Deep_Learning_%26_Neural_Networks_with_Keras(A).ipynb\" target=\"_parent\"><img src=\"https://colab.research.google.com/assets/colab-badge.svg\" alt=\"Open In Colab\"/></a>"
      ]
    },
    {
      "cell_type": "code",
      "metadata": {
        "id": "fviBjutMVia8",
        "colab_type": "code",
        "colab": {
          "base_uri": "https://localhost:8080/",
          "height": 36
        },
        "outputId": "d4cf92d7-fa06-4215-b327-ac9dec6df842"
      },
      "source": [
        "import pandas as pd\n",
        "import numpy as np\n",
        "import keras\n",
        "from keras.models import Sequential\n",
        "from keras.layers import Dense"
      ],
      "execution_count": 1,
      "outputs": [
        {
          "output_type": "stream",
          "text": [
            "Using TensorFlow backend.\n"
          ],
          "name": "stderr"
        }
      ]
    },
    {
      "cell_type": "code",
      "metadata": {
        "id": "JXuqy83DWsK2",
        "colab_type": "code",
        "colab": {
          "base_uri": "https://localhost:8080/",
          "height": 206
        },
        "outputId": "ce5a35c2-d839-49f4-bedf-91e2962b6da9"
      },
      "source": [
        "concrete = pd.read_csv('concrete_data.csv')\n",
        "concrete.head()"
      ],
      "execution_count": 29,
      "outputs": [
        {
          "output_type": "execute_result",
          "data": {
            "text/html": [
              "<div>\n",
              "<style scoped>\n",
              "    .dataframe tbody tr th:only-of-type {\n",
              "        vertical-align: middle;\n",
              "    }\n",
              "\n",
              "    .dataframe tbody tr th {\n",
              "        vertical-align: top;\n",
              "    }\n",
              "\n",
              "    .dataframe thead th {\n",
              "        text-align: right;\n",
              "    }\n",
              "</style>\n",
              "<table border=\"1\" class=\"dataframe\">\n",
              "  <thead>\n",
              "    <tr style=\"text-align: right;\">\n",
              "      <th></th>\n",
              "      <th>Cement</th>\n",
              "      <th>Blast Furnace Slag</th>\n",
              "      <th>Fly Ash</th>\n",
              "      <th>Water</th>\n",
              "      <th>Superplasticizer</th>\n",
              "      <th>Coarse Aggregate</th>\n",
              "      <th>Fine Aggregate</th>\n",
              "      <th>Age</th>\n",
              "      <th>Strength</th>\n",
              "    </tr>\n",
              "  </thead>\n",
              "  <tbody>\n",
              "    <tr>\n",
              "      <th>0</th>\n",
              "      <td>540.0</td>\n",
              "      <td>0.0</td>\n",
              "      <td>0.0</td>\n",
              "      <td>162.0</td>\n",
              "      <td>2.5</td>\n",
              "      <td>1040.0</td>\n",
              "      <td>676.0</td>\n",
              "      <td>28</td>\n",
              "      <td>79.99</td>\n",
              "    </tr>\n",
              "    <tr>\n",
              "      <th>1</th>\n",
              "      <td>540.0</td>\n",
              "      <td>0.0</td>\n",
              "      <td>0.0</td>\n",
              "      <td>162.0</td>\n",
              "      <td>2.5</td>\n",
              "      <td>1055.0</td>\n",
              "      <td>676.0</td>\n",
              "      <td>28</td>\n",
              "      <td>61.89</td>\n",
              "    </tr>\n",
              "    <tr>\n",
              "      <th>2</th>\n",
              "      <td>332.5</td>\n",
              "      <td>142.5</td>\n",
              "      <td>0.0</td>\n",
              "      <td>228.0</td>\n",
              "      <td>0.0</td>\n",
              "      <td>932.0</td>\n",
              "      <td>594.0</td>\n",
              "      <td>270</td>\n",
              "      <td>40.27</td>\n",
              "    </tr>\n",
              "    <tr>\n",
              "      <th>3</th>\n",
              "      <td>332.5</td>\n",
              "      <td>142.5</td>\n",
              "      <td>0.0</td>\n",
              "      <td>228.0</td>\n",
              "      <td>0.0</td>\n",
              "      <td>932.0</td>\n",
              "      <td>594.0</td>\n",
              "      <td>365</td>\n",
              "      <td>41.05</td>\n",
              "    </tr>\n",
              "    <tr>\n",
              "      <th>4</th>\n",
              "      <td>198.6</td>\n",
              "      <td>132.4</td>\n",
              "      <td>0.0</td>\n",
              "      <td>192.0</td>\n",
              "      <td>0.0</td>\n",
              "      <td>978.4</td>\n",
              "      <td>825.5</td>\n",
              "      <td>360</td>\n",
              "      <td>44.30</td>\n",
              "    </tr>\n",
              "  </tbody>\n",
              "</table>\n",
              "</div>"
            ],
            "text/plain": [
              "   Cement  Blast Furnace Slag  Fly Ash  ...  Fine Aggregate  Age  Strength\n",
              "0   540.0                 0.0      0.0  ...           676.0   28     79.99\n",
              "1   540.0                 0.0      0.0  ...           676.0   28     61.89\n",
              "2   332.5               142.5      0.0  ...           594.0  270     40.27\n",
              "3   332.5               142.5      0.0  ...           594.0  365     41.05\n",
              "4   198.6               132.4      0.0  ...           825.5  360     44.30\n",
              "\n",
              "[5 rows x 9 columns]"
            ]
          },
          "metadata": {
            "tags": []
          },
          "execution_count": 29
        }
      ]
    },
    {
      "cell_type": "markdown",
      "metadata": {
        "id": "gh8_y6aga7Dx",
        "colab_type": "text"
      },
      "source": [
        "# Pre-processing"
      ]
    },
    {
      "cell_type": "code",
      "metadata": {
        "id": "as7eFLlRXPeK",
        "colab_type": "code",
        "colab": {
          "base_uri": "https://localhost:8080/",
          "height": 206
        },
        "outputId": "eb3c8a78-8f57-4db4-edf2-8c95ff8b049c"
      },
      "source": [
        "data = concrete\n",
        "labels = data.pop('Strength')\n",
        "data.head()"
      ],
      "execution_count": 30,
      "outputs": [
        {
          "output_type": "execute_result",
          "data": {
            "text/html": [
              "<div>\n",
              "<style scoped>\n",
              "    .dataframe tbody tr th:only-of-type {\n",
              "        vertical-align: middle;\n",
              "    }\n",
              "\n",
              "    .dataframe tbody tr th {\n",
              "        vertical-align: top;\n",
              "    }\n",
              "\n",
              "    .dataframe thead th {\n",
              "        text-align: right;\n",
              "    }\n",
              "</style>\n",
              "<table border=\"1\" class=\"dataframe\">\n",
              "  <thead>\n",
              "    <tr style=\"text-align: right;\">\n",
              "      <th></th>\n",
              "      <th>Cement</th>\n",
              "      <th>Blast Furnace Slag</th>\n",
              "      <th>Fly Ash</th>\n",
              "      <th>Water</th>\n",
              "      <th>Superplasticizer</th>\n",
              "      <th>Coarse Aggregate</th>\n",
              "      <th>Fine Aggregate</th>\n",
              "      <th>Age</th>\n",
              "    </tr>\n",
              "  </thead>\n",
              "  <tbody>\n",
              "    <tr>\n",
              "      <th>0</th>\n",
              "      <td>540.0</td>\n",
              "      <td>0.0</td>\n",
              "      <td>0.0</td>\n",
              "      <td>162.0</td>\n",
              "      <td>2.5</td>\n",
              "      <td>1040.0</td>\n",
              "      <td>676.0</td>\n",
              "      <td>28</td>\n",
              "    </tr>\n",
              "    <tr>\n",
              "      <th>1</th>\n",
              "      <td>540.0</td>\n",
              "      <td>0.0</td>\n",
              "      <td>0.0</td>\n",
              "      <td>162.0</td>\n",
              "      <td>2.5</td>\n",
              "      <td>1055.0</td>\n",
              "      <td>676.0</td>\n",
              "      <td>28</td>\n",
              "    </tr>\n",
              "    <tr>\n",
              "      <th>2</th>\n",
              "      <td>332.5</td>\n",
              "      <td>142.5</td>\n",
              "      <td>0.0</td>\n",
              "      <td>228.0</td>\n",
              "      <td>0.0</td>\n",
              "      <td>932.0</td>\n",
              "      <td>594.0</td>\n",
              "      <td>270</td>\n",
              "    </tr>\n",
              "    <tr>\n",
              "      <th>3</th>\n",
              "      <td>332.5</td>\n",
              "      <td>142.5</td>\n",
              "      <td>0.0</td>\n",
              "      <td>228.0</td>\n",
              "      <td>0.0</td>\n",
              "      <td>932.0</td>\n",
              "      <td>594.0</td>\n",
              "      <td>365</td>\n",
              "    </tr>\n",
              "    <tr>\n",
              "      <th>4</th>\n",
              "      <td>198.6</td>\n",
              "      <td>132.4</td>\n",
              "      <td>0.0</td>\n",
              "      <td>192.0</td>\n",
              "      <td>0.0</td>\n",
              "      <td>978.4</td>\n",
              "      <td>825.5</td>\n",
              "      <td>360</td>\n",
              "    </tr>\n",
              "  </tbody>\n",
              "</table>\n",
              "</div>"
            ],
            "text/plain": [
              "   Cement  Blast Furnace Slag  Fly Ash  ...  Coarse Aggregate  Fine Aggregate  Age\n",
              "0   540.0                 0.0      0.0  ...            1040.0           676.0   28\n",
              "1   540.0                 0.0      0.0  ...            1055.0           676.0   28\n",
              "2   332.5               142.5      0.0  ...             932.0           594.0  270\n",
              "3   332.5               142.5      0.0  ...             932.0           594.0  365\n",
              "4   198.6               132.4      0.0  ...             978.4           825.5  360\n",
              "\n",
              "[5 rows x 8 columns]"
            ]
          },
          "metadata": {
            "tags": []
          },
          "execution_count": 30
        }
      ]
    },
    {
      "cell_type": "code",
      "metadata": {
        "id": "0TiiPcSOaCrr",
        "colab_type": "code",
        "colab": {
          "base_uri": "https://localhost:8080/",
          "height": 128
        },
        "outputId": "cf609a3e-6d36-49b5-929c-560b1e18d477"
      },
      "source": [
        "labels.head()"
      ],
      "execution_count": 20,
      "outputs": [
        {
          "output_type": "execute_result",
          "data": {
            "text/plain": [
              "0    79.99\n",
              "1    61.89\n",
              "2    40.27\n",
              "3    41.05\n",
              "4    44.30\n",
              "Name: Strength, dtype: float64"
            ]
          },
          "metadata": {
            "tags": []
          },
          "execution_count": 20
        }
      ]
    },
    {
      "cell_type": "markdown",
      "metadata": {
        "id": "f8PAItpYckaD",
        "colab_type": "text"
      },
      "source": [
        "# Training/Test Split"
      ]
    },
    {
      "cell_type": "code",
      "metadata": {
        "id": "8A3OFAE8WQh9",
        "colab_type": "code",
        "colab": {}
      },
      "source": [
        "from sklearn.model_selection import train_test_split"
      ],
      "execution_count": 0,
      "outputs": []
    },
    {
      "cell_type": "code",
      "metadata": {
        "id": "hjn7u63bWQiE",
        "colab_type": "code",
        "colab": {}
      },
      "source": [
        "X_train, X_test, y_train, y_test = train_test_split(data, labels, test_size=0.3)"
      ],
      "execution_count": 0,
      "outputs": []
    },
    {
      "cell_type": "code",
      "metadata": {
        "id": "hE7Jt8rTWQhi",
        "colab_type": "code",
        "colab": {}
      },
      "source": [
        "input_shape = data.shape[1]"
      ],
      "execution_count": 0,
      "outputs": []
    },
    {
      "cell_type": "markdown",
      "metadata": {
        "id": "caQPmd23b6SR",
        "colab_type": "text"
      },
      "source": [
        "# Defining the Model\n"
      ]
    },
    {
      "cell_type": "code",
      "metadata": {
        "id": "mlj4WdPQWQht",
        "colab_type": "code",
        "colab": {}
      },
      "source": [
        "def regression_model():\n",
        "    model = Sequential()\n",
        "    model.add(Dense(10, activation='relu', input_shape=(input_shape,)))\n",
        "    model.add(Dense(1))\n",
        "    \n",
        "    model.compile(optimizer='adam', loss='mean_squared_error')\n",
        "    return model\n",
        "\n",
        "model = regression_model()"
      ],
      "execution_count": 0,
      "outputs": []
    },
    {
      "cell_type": "markdown",
      "metadata": {
        "id": "NCz0Je7rcMkB",
        "colab_type": "text"
      },
      "source": [
        "# Training the Model"
      ]
    },
    {
      "cell_type": "code",
      "metadata": {
        "id": "f8m5F6itWQiT",
        "colab_type": "code",
        "outputId": "338a418e-2a2a-4b4e-f1df-3fd907e4a25c",
        "colab": {
          "base_uri": "https://localhost:8080/",
          "height": 1000
        }
      },
      "source": [
        "EPOCHS = 50\n",
        "model.fit(X_train, y_train, epochs=EPOCHS, verbose=2)"
      ],
      "execution_count": 33,
      "outputs": [
        {
          "output_type": "stream",
          "text": [
            "Epoch 1/50\n",
            " - 0s - loss: 142.2808\n",
            "Epoch 2/50\n",
            " - 0s - loss: 140.3740\n",
            "Epoch 3/50\n",
            " - 0s - loss: 138.5236\n",
            "Epoch 4/50\n",
            " - 0s - loss: 137.2169\n",
            "Epoch 5/50\n",
            " - 0s - loss: 135.7129\n",
            "Epoch 6/50\n",
            " - 0s - loss: 134.0898\n",
            "Epoch 7/50\n",
            " - 0s - loss: 132.1663\n",
            "Epoch 8/50\n",
            " - 0s - loss: 130.9121\n",
            "Epoch 9/50\n",
            " - 0s - loss: 130.7544\n",
            "Epoch 10/50\n",
            " - 0s - loss: 129.8524\n",
            "Epoch 11/50\n",
            " - 0s - loss: 128.4880\n",
            "Epoch 12/50\n",
            " - 0s - loss: 126.4302\n",
            "Epoch 13/50\n",
            " - 0s - loss: 125.0311\n",
            "Epoch 14/50\n",
            " - 0s - loss: 124.2976\n",
            "Epoch 15/50\n",
            " - 0s - loss: 124.5477\n",
            "Epoch 16/50\n",
            " - 0s - loss: 121.9342\n",
            "Epoch 17/50\n",
            " - 0s - loss: 121.1197\n",
            "Epoch 18/50\n",
            " - 0s - loss: 120.6638\n",
            "Epoch 19/50\n",
            " - 0s - loss: 120.4569\n",
            "Epoch 20/50\n",
            " - 0s - loss: 123.5785\n",
            "Epoch 21/50\n",
            " - 0s - loss: 119.2883\n",
            "Epoch 22/50\n",
            " - 0s - loss: 118.8994\n",
            "Epoch 23/50\n",
            " - 0s - loss: 118.1707\n",
            "Epoch 24/50\n",
            " - 0s - loss: 119.3098\n",
            "Epoch 25/50\n",
            " - 0s - loss: 115.4407\n",
            "Epoch 26/50\n",
            " - 0s - loss: 115.8076\n",
            "Epoch 27/50\n",
            " - 0s - loss: 113.7693\n",
            "Epoch 28/50\n",
            " - 0s - loss: 114.1395\n",
            "Epoch 29/50\n",
            " - 0s - loss: 114.9988\n",
            "Epoch 30/50\n",
            " - 0s - loss: 113.0685\n",
            "Epoch 31/50\n",
            " - 0s - loss: 113.8883\n",
            "Epoch 32/50\n",
            " - 0s - loss: 112.3414\n",
            "Epoch 33/50\n",
            " - 0s - loss: 112.7866\n",
            "Epoch 34/50\n",
            " - 0s - loss: 111.4022\n",
            "Epoch 35/50\n",
            " - 0s - loss: 110.3932\n",
            "Epoch 36/50\n",
            " - 0s - loss: 109.7925\n",
            "Epoch 37/50\n",
            " - 0s - loss: 112.6110\n",
            "Epoch 38/50\n",
            " - 0s - loss: 111.7550\n",
            "Epoch 39/50\n",
            " - 0s - loss: 110.2880\n",
            "Epoch 40/50\n",
            " - 0s - loss: 112.6398\n",
            "Epoch 41/50\n",
            " - 0s - loss: 111.2993\n",
            "Epoch 42/50\n",
            " - 0s - loss: 108.7184\n",
            "Epoch 43/50\n",
            " - 0s - loss: 109.0322\n",
            "Epoch 44/50\n",
            " - 0s - loss: 108.5609\n",
            "Epoch 45/50\n",
            " - 0s - loss: 109.2083\n",
            "Epoch 46/50\n",
            " - 0s - loss: 109.0557\n",
            "Epoch 47/50\n",
            " - 0s - loss: 108.2264\n",
            "Epoch 48/50\n",
            " - 0s - loss: 108.4964\n",
            "Epoch 49/50\n",
            " - 0s - loss: 107.9112\n",
            "Epoch 50/50\n",
            " - 0s - loss: 118.0628\n"
          ],
          "name": "stdout"
        },
        {
          "output_type": "execute_result",
          "data": {
            "text/plain": [
              "<keras.callbacks.callbacks.History at 0x7fa863af3908>"
            ]
          },
          "metadata": {
            "tags": []
          },
          "execution_count": 33
        }
      ]
    },
    {
      "cell_type": "code",
      "metadata": {
        "id": "w0FO2eDtWQif",
        "colab_type": "code",
        "outputId": "2d09cbb9-b6c7-48f2-f51b-a912236e2922",
        "colab": {
          "base_uri": "https://localhost:8080/",
          "height": 54
        }
      },
      "source": [
        "loss_val = model.evaluate(X_test, y_test)\n",
        "y_pred = model.predict(X_test)\n",
        "loss_val"
      ],
      "execution_count": 34,
      "outputs": [
        {
          "output_type": "stream",
          "text": [
            "309/309 [==============================] - 0s 63us/step\n"
          ],
          "name": "stdout"
        },
        {
          "output_type": "execute_result",
          "data": {
            "text/plain": [
              "99.9014707398646"
            ]
          },
          "metadata": {
            "tags": []
          },
          "execution_count": 34
        }
      ]
    },
    {
      "cell_type": "code",
      "metadata": {
        "id": "RNtejwHZWQiu",
        "colab_type": "code",
        "colab": {}
      },
      "source": [
        "from sklearn.metrics import mean_squared_error"
      ],
      "execution_count": 0,
      "outputs": []
    },
    {
      "cell_type": "code",
      "metadata": {
        "id": "bn2RQvAvWQi0",
        "colab_type": "code",
        "outputId": "f75da206-af69-4466-b2cd-7fff84ed6e15",
        "colab": {
          "base_uri": "https://localhost:8080/",
          "height": 36
        }
      },
      "source": [
        "mean_square_error = mean_squared_error(y_test, y_pred)\n",
        "mean = np.mean(mean_square_error)\n",
        "standard_deviation = np.std(mean_square_error)\n",
        "print(mean, standard_deviation)"
      ],
      "execution_count": 38,
      "outputs": [
        {
          "output_type": "stream",
          "text": [
            "99.90146811101374 0.0\n"
          ],
          "name": "stdout"
        }
      ]
    },
    {
      "cell_type": "code",
      "metadata": {
        "id": "t71OCj82WQi9",
        "colab_type": "code",
        "outputId": "27b1b91d-a5fc-4f17-f7ea-4332eaa07fb9",
        "colab": {
          "base_uri": "https://localhost:8080/",
          "height": 1000
        }
      },
      "source": [
        "total_mean_squared_errors = 50\n",
        "epochs = 50\n",
        "mean_squared_errors = []\n",
        "for i in range(0, total_mean_squared_errors):\n",
        "    X_train, X_test, y_train, y_test = train_test_split(data, labels, test_size=0.3, random_state=i)\n",
        "    model.fit(X_train, y_train, epochs=epochs, verbose=0)\n",
        "    MSE = model.evaluate(X_test, y_test, verbose=0)\n",
        "    print(\"Mean Squared Error \"+str(i+1)+\": \"+str(MSE))\n",
        "    y_pred = model.predict(X_test)\n",
        "    mean_square_error = mean_squared_error(y_test, y_pred)\n",
        "    mean_squared_errors.append(mean_square_error)\n",
        "\n",
        "mean_squared_errors = np.array(mean_squared_errors)\n",
        "mean = np.mean(mean_squared_errors)\n",
        "standard_deviation = np.std(mean_squared_errors)\n",
        "\n",
        "print()\n",
        "print(\"Mean: \"+str(mean))\n",
        "print(\"Standard Deviation: \"+str(standard_deviation))"
      ],
      "execution_count": 40,
      "outputs": [
        {
          "output_type": "stream",
          "text": [
            "Mean Squared Error 1: 88.69465518692165\n",
            "Mean Squared Error 2: 85.2387651116331\n",
            "Mean Squared Error 3: 56.76716733518928\n",
            "Mean Squared Error 4: 59.33391754989871\n",
            "Mean Squared Error 5: 51.97516211105396\n",
            "Mean Squared Error 6: 54.78125834542185\n",
            "Mean Squared Error 7: 59.174744911564204\n",
            "Mean Squared Error 8: 45.26085745555297\n",
            "Mean Squared Error 9: 55.1063548708425\n",
            "Mean Squared Error 10: 50.1259124410191\n",
            "Mean Squared Error 11: 50.14006522712584\n",
            "Mean Squared Error 12: 48.18289371601586\n",
            "Mean Squared Error 13: 60.30886509349045\n",
            "Mean Squared Error 14: 51.06083632287084\n",
            "Mean Squared Error 15: 49.7773393797643\n",
            "Mean Squared Error 16: 42.92737702798689\n",
            "Mean Squared Error 17: 61.11342072718352\n",
            "Mean Squared Error 18: 50.88362294416211\n",
            "Mean Squared Error 19: 44.103737667540514\n",
            "Mean Squared Error 20: 48.06236180672754\n",
            "Mean Squared Error 21: 45.03454096031806\n",
            "Mean Squared Error 22: 58.05761645912738\n",
            "Mean Squared Error 23: 52.073015836450274\n",
            "Mean Squared Error 24: 46.76106078879347\n",
            "Mean Squared Error 25: 47.59536104912125\n",
            "Mean Squared Error 26: 47.775002315978014\n",
            "Mean Squared Error 27: 51.004623092108176\n",
            "Mean Squared Error 28: 45.71845477452942\n",
            "Mean Squared Error 29: 51.30953662218013\n",
            "Mean Squared Error 30: 51.92123258769705\n",
            "Mean Squared Error 31: 52.153857530513626\n",
            "Mean Squared Error 32: 42.38057688370492\n",
            "Mean Squared Error 33: 48.8359840417757\n",
            "Mean Squared Error 34: 49.912919004372405\n",
            "Mean Squared Error 35: 45.342060447124986\n",
            "Mean Squared Error 36: 53.63022564144196\n",
            "Mean Squared Error 37: 53.56393105466775\n",
            "Mean Squared Error 38: 61.438879438974325\n",
            "Mean Squared Error 39: 48.791452648570235\n",
            "Mean Squared Error 40: 48.055748035221036\n",
            "Mean Squared Error 41: 62.013404475832445\n",
            "Mean Squared Error 42: 43.52471817658557\n",
            "Mean Squared Error 43: 48.32308826014448\n",
            "Mean Squared Error 44: 50.08653548157331\n",
            "Mean Squared Error 45: 55.88962438885834\n",
            "Mean Squared Error 46: 49.7839504353051\n",
            "Mean Squared Error 47: 51.87719263613803\n",
            "Mean Squared Error 48: 50.134989173666945\n",
            "Mean Squared Error 49: 48.6775780588292\n",
            "Mean Squared Error 50: 50.07138934336048\n",
            "\n",
            "\n",
            "Mean: 52.49515698171469\n",
            "Standard Deviation: 8.556206857809789\n"
          ],
          "name": "stdout"
        }
      ]
    },
    {
      "cell_type": "code",
      "metadata": {
        "id": "5PVOOhgpdywm",
        "colab_type": "code",
        "colab": {}
      },
      "source": [
        ""
      ],
      "execution_count": 0,
      "outputs": []
    }
  ]
}