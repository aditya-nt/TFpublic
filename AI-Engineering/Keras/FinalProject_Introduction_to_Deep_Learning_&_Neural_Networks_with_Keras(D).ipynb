{
  "nbformat": 4,
  "nbformat_minor": 0,
  "metadata": {
    "colab": {
      "name": "FinalProject-Introduction to Deep Learning & Neural Networks with Keras(B).ipynb",
      "provenance": [],
      "authorship_tag": "ABX9TyMc6CE3PVQ3rKtYm897rUrQ",
      "include_colab_link": true
    },
    "kernelspec": {
      "name": "python3",
      "display_name": "Python 3"
    }
  },
  "cells": [
    {
      "cell_type": "markdown",
      "metadata": {
        "id": "view-in-github",
        "colab_type": "text"
      },
      "source": [
        "<a href=\"https://colab.research.google.com/github/aditya-nt/TFpublic/blob/master/AI-Engineering/Keras/FinalProject_Introduction_to_Deep_Learning_%26_Neural_Networks_with_Keras(D).ipynb\" target=\"_parent\"><img src=\"https://colab.research.google.com/assets/colab-badge.svg\" alt=\"Open In Colab\"/></a>"
      ]
    },
    {
      "cell_type": "code",
      "metadata": {
        "id": "fviBjutMVia8",
        "colab_type": "code",
        "colab": {}
      },
      "source": [
        "import pandas as pd\n",
        "import numpy as np\n",
        "import keras\n",
        "from keras.models import Sequential\n",
        "from keras.layers import Dense"
      ],
      "execution_count": 0,
      "outputs": []
    },
    {
      "cell_type": "code",
      "metadata": {
        "id": "JXuqy83DWsK2",
        "colab_type": "code",
        "outputId": "0efc54d9-4e44-45ec-f423-8c481588eba3",
        "colab": {
          "base_uri": "https://localhost:8080/",
          "height": 206
        }
      },
      "source": [
        "concrete = pd.read_csv('concrete_data.csv')\n",
        "concrete.head()"
      ],
      "execution_count": 4,
      "outputs": [
        {
          "output_type": "execute_result",
          "data": {
            "text/html": [
              "<div>\n",
              "<style scoped>\n",
              "    .dataframe tbody tr th:only-of-type {\n",
              "        vertical-align: middle;\n",
              "    }\n",
              "\n",
              "    .dataframe tbody tr th {\n",
              "        vertical-align: top;\n",
              "    }\n",
              "\n",
              "    .dataframe thead th {\n",
              "        text-align: right;\n",
              "    }\n",
              "</style>\n",
              "<table border=\"1\" class=\"dataframe\">\n",
              "  <thead>\n",
              "    <tr style=\"text-align: right;\">\n",
              "      <th></th>\n",
              "      <th>Cement</th>\n",
              "      <th>Blast Furnace Slag</th>\n",
              "      <th>Fly Ash</th>\n",
              "      <th>Water</th>\n",
              "      <th>Superplasticizer</th>\n",
              "      <th>Coarse Aggregate</th>\n",
              "      <th>Fine Aggregate</th>\n",
              "      <th>Age</th>\n",
              "      <th>Strength</th>\n",
              "    </tr>\n",
              "  </thead>\n",
              "  <tbody>\n",
              "    <tr>\n",
              "      <th>0</th>\n",
              "      <td>540.0</td>\n",
              "      <td>0.0</td>\n",
              "      <td>0.0</td>\n",
              "      <td>162.0</td>\n",
              "      <td>2.5</td>\n",
              "      <td>1040.0</td>\n",
              "      <td>676.0</td>\n",
              "      <td>28</td>\n",
              "      <td>79.99</td>\n",
              "    </tr>\n",
              "    <tr>\n",
              "      <th>1</th>\n",
              "      <td>540.0</td>\n",
              "      <td>0.0</td>\n",
              "      <td>0.0</td>\n",
              "      <td>162.0</td>\n",
              "      <td>2.5</td>\n",
              "      <td>1055.0</td>\n",
              "      <td>676.0</td>\n",
              "      <td>28</td>\n",
              "      <td>61.89</td>\n",
              "    </tr>\n",
              "    <tr>\n",
              "      <th>2</th>\n",
              "      <td>332.5</td>\n",
              "      <td>142.5</td>\n",
              "      <td>0.0</td>\n",
              "      <td>228.0</td>\n",
              "      <td>0.0</td>\n",
              "      <td>932.0</td>\n",
              "      <td>594.0</td>\n",
              "      <td>270</td>\n",
              "      <td>40.27</td>\n",
              "    </tr>\n",
              "    <tr>\n",
              "      <th>3</th>\n",
              "      <td>332.5</td>\n",
              "      <td>142.5</td>\n",
              "      <td>0.0</td>\n",
              "      <td>228.0</td>\n",
              "      <td>0.0</td>\n",
              "      <td>932.0</td>\n",
              "      <td>594.0</td>\n",
              "      <td>365</td>\n",
              "      <td>41.05</td>\n",
              "    </tr>\n",
              "    <tr>\n",
              "      <th>4</th>\n",
              "      <td>198.6</td>\n",
              "      <td>132.4</td>\n",
              "      <td>0.0</td>\n",
              "      <td>192.0</td>\n",
              "      <td>0.0</td>\n",
              "      <td>978.4</td>\n",
              "      <td>825.5</td>\n",
              "      <td>360</td>\n",
              "      <td>44.30</td>\n",
              "    </tr>\n",
              "  </tbody>\n",
              "</table>\n",
              "</div>"
            ],
            "text/plain": [
              "   Cement  Blast Furnace Slag  Fly Ash  ...  Fine Aggregate  Age  Strength\n",
              "0   540.0                 0.0      0.0  ...           676.0   28     79.99\n",
              "1   540.0                 0.0      0.0  ...           676.0   28     61.89\n",
              "2   332.5               142.5      0.0  ...           594.0  270     40.27\n",
              "3   332.5               142.5      0.0  ...           594.0  365     41.05\n",
              "4   198.6               132.4      0.0  ...           825.5  360     44.30\n",
              "\n",
              "[5 rows x 9 columns]"
            ]
          },
          "metadata": {
            "tags": []
          },
          "execution_count": 4
        }
      ]
    },
    {
      "cell_type": "markdown",
      "metadata": {
        "id": "gh8_y6aga7Dx",
        "colab_type": "text"
      },
      "source": [
        "# Pre-processing"
      ]
    },
    {
      "cell_type": "code",
      "metadata": {
        "id": "as7eFLlRXPeK",
        "colab_type": "code",
        "outputId": "0db3583f-fbfa-4afe-836a-fd2323366fa5",
        "colab": {
          "base_uri": "https://localhost:8080/",
          "height": 206
        }
      },
      "source": [
        "data = concrete\n",
        "labels = data.pop('Strength')\n",
        "data.head()"
      ],
      "execution_count": 5,
      "outputs": [
        {
          "output_type": "execute_result",
          "data": {
            "text/html": [
              "<div>\n",
              "<style scoped>\n",
              "    .dataframe tbody tr th:only-of-type {\n",
              "        vertical-align: middle;\n",
              "    }\n",
              "\n",
              "    .dataframe tbody tr th {\n",
              "        vertical-align: top;\n",
              "    }\n",
              "\n",
              "    .dataframe thead th {\n",
              "        text-align: right;\n",
              "    }\n",
              "</style>\n",
              "<table border=\"1\" class=\"dataframe\">\n",
              "  <thead>\n",
              "    <tr style=\"text-align: right;\">\n",
              "      <th></th>\n",
              "      <th>Cement</th>\n",
              "      <th>Blast Furnace Slag</th>\n",
              "      <th>Fly Ash</th>\n",
              "      <th>Water</th>\n",
              "      <th>Superplasticizer</th>\n",
              "      <th>Coarse Aggregate</th>\n",
              "      <th>Fine Aggregate</th>\n",
              "      <th>Age</th>\n",
              "    </tr>\n",
              "  </thead>\n",
              "  <tbody>\n",
              "    <tr>\n",
              "      <th>0</th>\n",
              "      <td>540.0</td>\n",
              "      <td>0.0</td>\n",
              "      <td>0.0</td>\n",
              "      <td>162.0</td>\n",
              "      <td>2.5</td>\n",
              "      <td>1040.0</td>\n",
              "      <td>676.0</td>\n",
              "      <td>28</td>\n",
              "    </tr>\n",
              "    <tr>\n",
              "      <th>1</th>\n",
              "      <td>540.0</td>\n",
              "      <td>0.0</td>\n",
              "      <td>0.0</td>\n",
              "      <td>162.0</td>\n",
              "      <td>2.5</td>\n",
              "      <td>1055.0</td>\n",
              "      <td>676.0</td>\n",
              "      <td>28</td>\n",
              "    </tr>\n",
              "    <tr>\n",
              "      <th>2</th>\n",
              "      <td>332.5</td>\n",
              "      <td>142.5</td>\n",
              "      <td>0.0</td>\n",
              "      <td>228.0</td>\n",
              "      <td>0.0</td>\n",
              "      <td>932.0</td>\n",
              "      <td>594.0</td>\n",
              "      <td>270</td>\n",
              "    </tr>\n",
              "    <tr>\n",
              "      <th>3</th>\n",
              "      <td>332.5</td>\n",
              "      <td>142.5</td>\n",
              "      <td>0.0</td>\n",
              "      <td>228.0</td>\n",
              "      <td>0.0</td>\n",
              "      <td>932.0</td>\n",
              "      <td>594.0</td>\n",
              "      <td>365</td>\n",
              "    </tr>\n",
              "    <tr>\n",
              "      <th>4</th>\n",
              "      <td>198.6</td>\n",
              "      <td>132.4</td>\n",
              "      <td>0.0</td>\n",
              "      <td>192.0</td>\n",
              "      <td>0.0</td>\n",
              "      <td>978.4</td>\n",
              "      <td>825.5</td>\n",
              "      <td>360</td>\n",
              "    </tr>\n",
              "  </tbody>\n",
              "</table>\n",
              "</div>"
            ],
            "text/plain": [
              "   Cement  Blast Furnace Slag  Fly Ash  ...  Coarse Aggregate  Fine Aggregate  Age\n",
              "0   540.0                 0.0      0.0  ...            1040.0           676.0   28\n",
              "1   540.0                 0.0      0.0  ...            1055.0           676.0   28\n",
              "2   332.5               142.5      0.0  ...             932.0           594.0  270\n",
              "3   332.5               142.5      0.0  ...             932.0           594.0  365\n",
              "4   198.6               132.4      0.0  ...             978.4           825.5  360\n",
              "\n",
              "[5 rows x 8 columns]"
            ]
          },
          "metadata": {
            "tags": []
          },
          "execution_count": 5
        }
      ]
    },
    {
      "cell_type": "code",
      "metadata": {
        "id": "0TiiPcSOaCrr",
        "colab_type": "code",
        "outputId": "960d9843-781e-4138-bba3-70070edf6f32",
        "colab": {
          "base_uri": "https://localhost:8080/",
          "height": 128
        }
      },
      "source": [
        "labels.head()"
      ],
      "execution_count": 6,
      "outputs": [
        {
          "output_type": "execute_result",
          "data": {
            "text/plain": [
              "0    79.99\n",
              "1    61.89\n",
              "2    40.27\n",
              "3    41.05\n",
              "4    44.30\n",
              "Name: Strength, dtype: float64"
            ]
          },
          "metadata": {
            "tags": []
          },
          "execution_count": 6
        }
      ]
    },
    {
      "cell_type": "markdown",
      "metadata": {
        "id": "mB73f4FUfTEt",
        "colab_type": "text"
      },
      "source": [
        "# NORMALIZATION OF DATA  ---------------------- PART B"
      ]
    },
    {
      "cell_type": "code",
      "metadata": {
        "id": "FJwT3pYAfaD3",
        "colab_type": "code",
        "outputId": "d6b56a8f-dde2-4bce-a69a-1617637b06db",
        "colab": {
          "base_uri": "https://localhost:8080/",
          "height": 206
        }
      },
      "source": [
        "data_norm = (data - data.mean()) / data.std()\n",
        "data_norm.head()"
      ],
      "execution_count": 7,
      "outputs": [
        {
          "output_type": "execute_result",
          "data": {
            "text/html": [
              "<div>\n",
              "<style scoped>\n",
              "    .dataframe tbody tr th:only-of-type {\n",
              "        vertical-align: middle;\n",
              "    }\n",
              "\n",
              "    .dataframe tbody tr th {\n",
              "        vertical-align: top;\n",
              "    }\n",
              "\n",
              "    .dataframe thead th {\n",
              "        text-align: right;\n",
              "    }\n",
              "</style>\n",
              "<table border=\"1\" class=\"dataframe\">\n",
              "  <thead>\n",
              "    <tr style=\"text-align: right;\">\n",
              "      <th></th>\n",
              "      <th>Cement</th>\n",
              "      <th>Blast Furnace Slag</th>\n",
              "      <th>Fly Ash</th>\n",
              "      <th>Water</th>\n",
              "      <th>Superplasticizer</th>\n",
              "      <th>Coarse Aggregate</th>\n",
              "      <th>Fine Aggregate</th>\n",
              "      <th>Age</th>\n",
              "    </tr>\n",
              "  </thead>\n",
              "  <tbody>\n",
              "    <tr>\n",
              "      <th>0</th>\n",
              "      <td>2.476712</td>\n",
              "      <td>-0.856472</td>\n",
              "      <td>-0.846733</td>\n",
              "      <td>-0.916319</td>\n",
              "      <td>-0.620147</td>\n",
              "      <td>0.862735</td>\n",
              "      <td>-1.217079</td>\n",
              "      <td>-0.279597</td>\n",
              "    </tr>\n",
              "    <tr>\n",
              "      <th>1</th>\n",
              "      <td>2.476712</td>\n",
              "      <td>-0.856472</td>\n",
              "      <td>-0.846733</td>\n",
              "      <td>-0.916319</td>\n",
              "      <td>-0.620147</td>\n",
              "      <td>1.055651</td>\n",
              "      <td>-1.217079</td>\n",
              "      <td>-0.279597</td>\n",
              "    </tr>\n",
              "    <tr>\n",
              "      <th>2</th>\n",
              "      <td>0.491187</td>\n",
              "      <td>0.795140</td>\n",
              "      <td>-0.846733</td>\n",
              "      <td>2.174405</td>\n",
              "      <td>-1.038638</td>\n",
              "      <td>-0.526262</td>\n",
              "      <td>-2.239829</td>\n",
              "      <td>3.551340</td>\n",
              "    </tr>\n",
              "    <tr>\n",
              "      <th>3</th>\n",
              "      <td>0.491187</td>\n",
              "      <td>0.795140</td>\n",
              "      <td>-0.846733</td>\n",
              "      <td>2.174405</td>\n",
              "      <td>-1.038638</td>\n",
              "      <td>-0.526262</td>\n",
              "      <td>-2.239829</td>\n",
              "      <td>5.055221</td>\n",
              "    </tr>\n",
              "    <tr>\n",
              "      <th>4</th>\n",
              "      <td>-0.790075</td>\n",
              "      <td>0.678079</td>\n",
              "      <td>-0.846733</td>\n",
              "      <td>0.488555</td>\n",
              "      <td>-1.038638</td>\n",
              "      <td>0.070492</td>\n",
              "      <td>0.647569</td>\n",
              "      <td>4.976069</td>\n",
              "    </tr>\n",
              "  </tbody>\n",
              "</table>\n",
              "</div>"
            ],
            "text/plain": [
              "     Cement  Blast Furnace Slag  ...  Fine Aggregate       Age\n",
              "0  2.476712           -0.856472  ...       -1.217079 -0.279597\n",
              "1  2.476712           -0.856472  ...       -1.217079 -0.279597\n",
              "2  0.491187            0.795140  ...       -2.239829  3.551340\n",
              "3  0.491187            0.795140  ...       -2.239829  5.055221\n",
              "4 -0.790075            0.678079  ...        0.647569  4.976069\n",
              "\n",
              "[5 rows x 8 columns]"
            ]
          },
          "metadata": {
            "tags": []
          },
          "execution_count": 7
        }
      ]
    },
    {
      "cell_type": "markdown",
      "metadata": {
        "id": "f8PAItpYckaD",
        "colab_type": "text"
      },
      "source": [
        "# Training/Test Split"
      ]
    },
    {
      "cell_type": "code",
      "metadata": {
        "id": "8A3OFAE8WQh9",
        "colab_type": "code",
        "colab": {}
      },
      "source": [
        "from sklearn.model_selection import train_test_split"
      ],
      "execution_count": 0,
      "outputs": []
    },
    {
      "cell_type": "code",
      "metadata": {
        "id": "hjn7u63bWQiE",
        "colab_type": "code",
        "colab": {}
      },
      "source": [
        "X_train, X_test, y_train, y_test = train_test_split(data_norm, labels, test_size=0.3)"
      ],
      "execution_count": 0,
      "outputs": []
    },
    {
      "cell_type": "code",
      "metadata": {
        "id": "hE7Jt8rTWQhi",
        "colab_type": "code",
        "colab": {}
      },
      "source": [
        "input_shape = data.shape[1]"
      ],
      "execution_count": 0,
      "outputs": []
    },
    {
      "cell_type": "markdown",
      "metadata": {
        "id": "caQPmd23b6SR",
        "colab_type": "text"
      },
      "source": [
        "# Defining the Model   ----- PART 4 -  3HIDDEN LAYERS\n",
        "\n"
      ]
    },
    {
      "cell_type": "code",
      "metadata": {
        "id": "mlj4WdPQWQht",
        "colab_type": "code",
        "colab": {}
      },
      "source": [
        "def regression_model():\n",
        "    model = Sequential()\n",
        "    model.add(Dense(10, activation='relu', input_shape=(input_shape,)))\n",
        "    model.add(Dense(10, activation='relu'))\n",
        "    model.add(Dense(10, activation='relu'))\n",
        "    model.add(Dense(1))\n",
        "    \n",
        "    model.compile(optimizer='adam', loss='mean_squared_error')\n",
        "    return model\n",
        "\n",
        "model = regression_model()"
      ],
      "execution_count": 0,
      "outputs": []
    },
    {
      "cell_type": "markdown",
      "metadata": {
        "id": "NCz0Je7rcMkB",
        "colab_type": "text"
      },
      "source": [
        "# Training the Model"
      ]
    },
    {
      "cell_type": "code",
      "metadata": {
        "id": "f8m5F6itWQiT",
        "colab_type": "code",
        "outputId": "461c2c0c-b436-4cd5-bdb4-238455ef2524",
        "colab": {
          "base_uri": "https://localhost:8080/",
          "height": 1000
        }
      },
      "source": [
        "EPOCHS = 50\n",
        "model.fit(X_train, y_train, epochs=EPOCHS, verbose=2)"
      ],
      "execution_count": 12,
      "outputs": [
        {
          "output_type": "stream",
          "text": [
            "Epoch 1/50\n",
            " - 0s - loss: 1561.1622\n",
            "Epoch 2/50\n",
            " - 0s - loss: 1537.1241\n",
            "Epoch 3/50\n",
            " - 0s - loss: 1508.3515\n",
            "Epoch 4/50\n",
            " - 0s - loss: 1469.1116\n",
            "Epoch 5/50\n",
            " - 0s - loss: 1412.1198\n",
            "Epoch 6/50\n",
            " - 0s - loss: 1326.2234\n",
            "Epoch 7/50\n",
            " - 0s - loss: 1196.1710\n",
            "Epoch 8/50\n",
            " - 0s - loss: 994.5924\n",
            "Epoch 9/50\n",
            " - 0s - loss: 751.2973\n",
            "Epoch 10/50\n",
            " - 0s - loss: 513.9947\n",
            "Epoch 11/50\n",
            " - 0s - loss: 341.1419\n",
            "Epoch 12/50\n",
            " - 0s - loss: 257.5728\n",
            "Epoch 13/50\n",
            " - 0s - loss: 231.7977\n",
            "Epoch 14/50\n",
            " - 0s - loss: 219.1359\n",
            "Epoch 15/50\n",
            " - 0s - loss: 210.1435\n",
            "Epoch 16/50\n",
            " - 0s - loss: 203.2719\n",
            "Epoch 17/50\n",
            " - 0s - loss: 197.0276\n",
            "Epoch 18/50\n",
            " - 0s - loss: 191.7564\n",
            "Epoch 19/50\n",
            " - 0s - loss: 187.2685\n",
            "Epoch 20/50\n",
            " - 0s - loss: 183.0568\n",
            "Epoch 21/50\n",
            " - 0s - loss: 179.1992\n",
            "Epoch 22/50\n",
            " - 0s - loss: 176.1412\n",
            "Epoch 23/50\n",
            " - 0s - loss: 172.9219\n",
            "Epoch 24/50\n",
            " - 0s - loss: 169.9709\n",
            "Epoch 25/50\n",
            " - 0s - loss: 166.9537\n",
            "Epoch 26/50\n",
            " - 0s - loss: 164.3583\n",
            "Epoch 27/50\n",
            " - 0s - loss: 162.1379\n",
            "Epoch 28/50\n",
            " - 0s - loss: 159.8475\n",
            "Epoch 29/50\n",
            " - 0s - loss: 157.6907\n",
            "Epoch 30/50\n",
            " - 0s - loss: 155.2861\n",
            "Epoch 31/50\n",
            " - 0s - loss: 153.2483\n",
            "Epoch 32/50\n",
            " - 0s - loss: 151.3830\n",
            "Epoch 33/50\n",
            " - 0s - loss: 149.4260\n",
            "Epoch 34/50\n",
            " - 0s - loss: 147.4790\n",
            "Epoch 35/50\n",
            " - 0s - loss: 145.8057\n",
            "Epoch 36/50\n",
            " - 0s - loss: 144.2492\n",
            "Epoch 37/50\n",
            " - 0s - loss: 142.3502\n",
            "Epoch 38/50\n",
            " - 0s - loss: 140.5025\n",
            "Epoch 39/50\n",
            " - 0s - loss: 139.0109\n",
            "Epoch 40/50\n",
            " - 0s - loss: 136.9747\n",
            "Epoch 41/50\n",
            " - 0s - loss: 135.5551\n",
            "Epoch 42/50\n",
            " - 0s - loss: 134.0353\n",
            "Epoch 43/50\n",
            " - 0s - loss: 132.2983\n",
            "Epoch 44/50\n",
            " - 0s - loss: 131.2420\n",
            "Epoch 45/50\n",
            " - 0s - loss: 129.3109\n",
            "Epoch 46/50\n",
            " - 0s - loss: 128.0533\n",
            "Epoch 47/50\n",
            " - 0s - loss: 126.3873\n",
            "Epoch 48/50\n",
            " - 0s - loss: 125.0330\n",
            "Epoch 49/50\n",
            " - 0s - loss: 123.8836\n",
            "Epoch 50/50\n",
            " - 0s - loss: 122.6139\n"
          ],
          "name": "stdout"
        },
        {
          "output_type": "execute_result",
          "data": {
            "text/plain": [
              "<keras.callbacks.callbacks.History at 0x7f253378c0f0>"
            ]
          },
          "metadata": {
            "tags": []
          },
          "execution_count": 12
        }
      ]
    },
    {
      "cell_type": "code",
      "metadata": {
        "id": "w0FO2eDtWQif",
        "colab_type": "code",
        "outputId": "eb1629c7-c073-4c77-b3ea-be62df898a6c",
        "colab": {
          "base_uri": "https://localhost:8080/",
          "height": 54
        }
      },
      "source": [
        "loss_val = model.evaluate(X_test, y_test)\n",
        "y_pred = model.predict(X_test)\n",
        "loss_val"
      ],
      "execution_count": 13,
      "outputs": [
        {
          "output_type": "stream",
          "text": [
            "309/309 [==============================] - 0s 80us/step\n"
          ],
          "name": "stdout"
        },
        {
          "output_type": "execute_result",
          "data": {
            "text/plain": [
              "128.64313366343674"
            ]
          },
          "metadata": {
            "tags": []
          },
          "execution_count": 13
        }
      ]
    },
    {
      "cell_type": "code",
      "metadata": {
        "id": "RNtejwHZWQiu",
        "colab_type": "code",
        "colab": {}
      },
      "source": [
        "from sklearn.metrics import mean_squared_error"
      ],
      "execution_count": 0,
      "outputs": []
    },
    {
      "cell_type": "code",
      "metadata": {
        "id": "bn2RQvAvWQi0",
        "colab_type": "code",
        "outputId": "815a1f1c-d79e-437d-8943-16cfdad2d998",
        "colab": {
          "base_uri": "https://localhost:8080/",
          "height": 36
        }
      },
      "source": [
        "mean_square_error = mean_squared_error(y_test, y_pred)\n",
        "mean = np.mean(mean_square_error)\n",
        "standard_deviation = np.std(mean_square_error)\n",
        "print(mean, standard_deviation)"
      ],
      "execution_count": 15,
      "outputs": [
        {
          "output_type": "stream",
          "text": [
            "128.64313380213687 0.0\n"
          ],
          "name": "stdout"
        }
      ]
    },
    {
      "cell_type": "code",
      "metadata": {
        "id": "t71OCj82WQi9",
        "colab_type": "code",
        "outputId": "2925026a-99dd-446e-c7fd-c02bf7139050",
        "colab": {
          "base_uri": "https://localhost:8080/",
          "height": 1000
        }
      },
      "source": [
        "total_mean_squared_errors = 50\n",
        "epochs = 50\n",
        "mean_squared_errors = []\n",
        "for i in range(0, total_mean_squared_errors):\n",
        "    X_train, X_test, y_train, y_test = train_test_split(data_norm, labels, test_size=0.3, random_state=i)\n",
        "    model.fit(X_train, y_train, epochs=epochs, verbose=0)\n",
        "    MSE = model.evaluate(X_test, y_test, verbose=0)\n",
        "    print(\"Mean Squared Error \"+str(i+1)+\": \"+str(MSE))\n",
        "    y_pred = model.predict(X_test)\n",
        "    mean_square_error = mean_squared_error(y_test, y_pred)\n",
        "    mean_squared_errors.append(mean_square_error)\n",
        "\n",
        "mean_squared_errors = np.array(mean_squared_errors)\n",
        "mean = np.mean(mean_squared_errors)\n",
        "standard_deviation = np.std(mean_squared_errors)\n",
        "\n",
        "print()\n",
        "print(\"Mean: \"+str(mean))\n",
        "print(\"Standard Deviation: \"+str(standard_deviation))"
      ],
      "execution_count": 16,
      "outputs": [
        {
          "output_type": "stream",
          "text": [
            "Mean Squared Error 1: 69.85725279379045\n",
            "Mean Squared Error 2: 62.70211841373382\n",
            "Mean Squared Error 3: 39.40200503204247\n",
            "Mean Squared Error 4: 41.06273162249222\n",
            "Mean Squared Error 5: 37.49043593669015\n",
            "Mean Squared Error 6: 40.071936240088206\n",
            "Mean Squared Error 7: 39.92371896786983\n",
            "Mean Squared Error 8: 27.35822359103601\n",
            "Mean Squared Error 9: 32.055676074475535\n",
            "Mean Squared Error 10: 30.806238020122244\n",
            "Mean Squared Error 11: 30.08742402826698\n",
            "Mean Squared Error 12: 26.60900518423531\n",
            "Mean Squared Error 13: 32.909704739221866\n",
            "Mean Squared Error 14: 35.138120472238285\n",
            "Mean Squared Error 15: 28.441960862539347\n",
            "Mean Squared Error 16: 22.142553773898523\n",
            "Mean Squared Error 17: 26.106565432255323\n",
            "Mean Squared Error 18: 27.976972462675718\n",
            "Mean Squared Error 19: 27.204291840587235\n",
            "Mean Squared Error 20: 30.634930150794364\n",
            "Mean Squared Error 21: 26.45109839578277\n",
            "Mean Squared Error 22: 27.60413956873625\n",
            "Mean Squared Error 23: 25.617535334960543\n",
            "Mean Squared Error 24: 26.138856233516556\n",
            "Mean Squared Error 25: 27.05381515033808\n",
            "Mean Squared Error 26: 29.883423740424\n",
            "Mean Squared Error 27: 22.220099168302173\n",
            "Mean Squared Error 28: 24.163495048350114\n",
            "Mean Squared Error 29: 28.67700338517964\n",
            "Mean Squared Error 30: 24.722452034070653\n",
            "Mean Squared Error 31: 20.422478999906374\n",
            "Mean Squared Error 32: 20.497945408990855\n",
            "Mean Squared Error 33: 21.179646106213813\n",
            "Mean Squared Error 34: 22.86352389067122\n",
            "Mean Squared Error 35: 26.666801551399107\n",
            "Mean Squared Error 36: 27.18290119726681\n",
            "Mean Squared Error 37: 23.28227706711655\n",
            "Mean Squared Error 38: 23.877838036003237\n",
            "Mean Squared Error 39: 21.981023560064124\n",
            "Mean Squared Error 40: 21.03654638617556\n",
            "Mean Squared Error 41: 23.395331243866856\n",
            "Mean Squared Error 42: 19.73122163420742\n",
            "Mean Squared Error 43: 23.27641659029865\n",
            "Mean Squared Error 44: 22.56372833869218\n",
            "Mean Squared Error 45: 26.55205122321169\n",
            "Mean Squared Error 46: 22.713973381758507\n",
            "Mean Squared Error 47: 23.567359529266852\n",
            "Mean Squared Error 48: 23.227766759187272\n",
            "Mean Squared Error 49: 23.736647220105414\n",
            "Mean Squared Error 50: 23.42857587993338\n",
            "\n",
            "Mean: 28.633956369313136\n",
            "Standard Deviation: 9.389348140038276\n"
          ],
          "name": "stdout"
        }
      ]
    },
    {
      "cell_type": "markdown",
      "metadata": {
        "id": "5PVOOhgpdywm",
        "colab_type": "text"
      },
      "source": [
        "# RESULT WITH 3 HIDDEN LAYERS"
      ]
    }
  ]
}