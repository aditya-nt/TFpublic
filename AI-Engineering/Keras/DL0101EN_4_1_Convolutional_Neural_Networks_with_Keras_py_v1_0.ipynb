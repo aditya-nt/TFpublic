{
  "nbformat": 4,
  "nbformat_minor": 0,
  "metadata": {
    "kernelspec": {
      "display_name": "Python",
      "language": "python",
      "name": "conda-env-python-py"
    },
    "language_info": {
      "codemirror_mode": {
        "name": "ipython",
        "version": 3
      },
      "file_extension": ".py",
      "mimetype": "text/x-python",
      "name": "python",
      "nbconvert_exporter": "python",
      "pygments_lexer": "ipython3",
      "version": "3.6.7"
    },
    "colab": {
      "name": "DL0101EN-4-1-Convolutional-Neural-Networks-with-Keras-py-v1.0.ipynb",
      "provenance": [],
      "include_colab_link": true
    }
  },
  "cells": [
    {
      "cell_type": "markdown",
      "metadata": {
        "id": "view-in-github",
        "colab_type": "text"
      },
      "source": [
        "<a href=\"https://colab.research.google.com/github/aditya-nt/TFpublic/blob/master/AI-Engineering/Keras/DL0101EN_4_1_Convolutional_Neural_Networks_with_Keras_py_v1_0.ipynb\" target=\"_parent\"><img src=\"https://colab.research.google.com/assets/colab-badge.svg\" alt=\"Open In Colab\"/></a>"
      ]
    },
    {
      "cell_type": "markdown",
      "metadata": {
        "id": "U7DOdMgUMKQ_",
        "colab_type": "text"
      },
      "source": [
        "<a href=\"https://cognitiveclass.ai\"><img src = \"https://s3-api.us-geo.objectstorage.softlayer.net/cf-courses-data/CognitiveClass/Logos/organization_logo/organization_logo.png\" width = 400> </a>\n",
        "\n",
        "<h1 align=center><font size = 5>Convolutional Neural Networks with Keras</font></h1>"
      ]
    },
    {
      "cell_type": "markdown",
      "metadata": {
        "id": "MWUmfyXpMKRB",
        "colab_type": "text"
      },
      "source": [
        "In this lab, we will learn how to use the Keras library to build convolutional neural networks. We will also use the popular MNIST dataset and we will compare our results to using a conventional neural network.\n"
      ]
    },
    {
      "cell_type": "markdown",
      "metadata": {
        "id": "bVR_eXdDMKRE",
        "colab_type": "text"
      },
      "source": [
        "## Table of Contents\n",
        "\n",
        "<div class=\"alert alert-block alert-info\" style=\"margin-top: 20px\">\n",
        "\n",
        "<font size = 3>\n",
        "      \n",
        "1. <a href=\"#item41\">Import Keras and Packages</a>   \n",
        "2. <a href=\"#item42\">Convolutional Neural Network with One Convolutional and Pooling Layers</a>  \n",
        "3. <a href=\"#item43\">Convolutional Neural Network with Two Convolutional and Pooling Layers</a>  \n",
        "\n",
        "</font>\n",
        "</div>"
      ]
    },
    {
      "cell_type": "markdown",
      "metadata": {
        "id": "fI0d2H_EMKRH",
        "colab_type": "text"
      },
      "source": [
        "<a id='item41'></a>"
      ]
    },
    {
      "cell_type": "markdown",
      "metadata": {
        "id": "Mmdc8o3TMKRJ",
        "colab_type": "text"
      },
      "source": [
        "## Import Keras and Packages"
      ]
    },
    {
      "cell_type": "markdown",
      "metadata": {
        "id": "4Rp9uprVMKRK",
        "colab_type": "text"
      },
      "source": [
        "Let's start by importing the keras libraries and the packages that we would need to build a neural network."
      ]
    },
    {
      "cell_type": "code",
      "metadata": {
        "id": "lkp1RuITMKRL",
        "colab_type": "code",
        "colab": {
          "base_uri": "https://localhost:8080/",
          "height": 36
        },
        "outputId": "9cf57bff-9bea-4fbb-9207-95c3b2821d44"
      },
      "source": [
        "import keras\n",
        "from keras.models import Sequential\n",
        "from keras.layers import Dense\n",
        "from keras.utils import to_categorical"
      ],
      "execution_count": 1,
      "outputs": [
        {
          "output_type": "stream",
          "text": [
            "Using TensorFlow backend.\n"
          ],
          "name": "stderr"
        }
      ]
    },
    {
      "cell_type": "markdown",
      "metadata": {
        "id": "qxdq0quSMKRY",
        "colab_type": "text"
      },
      "source": [
        "When working with convolutional neural networks in particular, we will need additional packages."
      ]
    },
    {
      "cell_type": "code",
      "metadata": {
        "id": "XTwbOBFXMKRa",
        "colab_type": "code",
        "colab": {}
      },
      "source": [
        "from keras.layers.convolutional import Conv2D # to add convolutional layers\n",
        "from keras.layers.convolutional import MaxPooling2D # to add pooling layers\n",
        "from keras.layers import Flatten # to flatten data for fully connected layers"
      ],
      "execution_count": 0,
      "outputs": []
    },
    {
      "cell_type": "markdown",
      "metadata": {
        "id": "mE-GKbDAMKRh",
        "colab_type": "text"
      },
      "source": [
        "<a id='item42'></a>"
      ]
    },
    {
      "cell_type": "markdown",
      "metadata": {
        "id": "7O49eDkBMKRj",
        "colab_type": "text"
      },
      "source": [
        "## Convolutional Layer with One set of convolutional and pooling layers"
      ]
    },
    {
      "cell_type": "code",
      "metadata": {
        "id": "eG4VUswCMKRk",
        "colab_type": "code",
        "colab": {
          "base_uri": "https://localhost:8080/",
          "height": 54
        },
        "outputId": "443f01a5-6d5f-42ef-a191-d1f650b1c3b0"
      },
      "source": [
        "# import data\n",
        "from keras.datasets import mnist\n",
        "\n",
        "# load data\n",
        "(X_train, y_train), (X_test, y_test) = mnist.load_data()\n",
        "\n",
        "# reshape to be [samples][pixels][width][height]\n",
        "X_train = X_train.reshape(X_train.shape[0], 28, 28, 1).astype('float32')\n",
        "X_test = X_test.reshape(X_test.shape[0], 28, 28, 1).astype('float32')"
      ],
      "execution_count": 3,
      "outputs": [
        {
          "output_type": "stream",
          "text": [
            "Downloading data from https://s3.amazonaws.com/img-datasets/mnist.npz\n",
            "11493376/11490434 [==============================] - 0s 0us/step\n"
          ],
          "name": "stdout"
        }
      ]
    },
    {
      "cell_type": "markdown",
      "metadata": {
        "id": "umXFkV6_MKRt",
        "colab_type": "text"
      },
      "source": [
        "Let's normalize the pixel values to be between 0 and 1"
      ]
    },
    {
      "cell_type": "code",
      "metadata": {
        "id": "mDigHAx7MKRu",
        "colab_type": "code",
        "colab": {}
      },
      "source": [
        "X_train = X_train / 255 # normalize training data\n",
        "X_test = X_test / 255 # normalize test data"
      ],
      "execution_count": 0,
      "outputs": []
    },
    {
      "cell_type": "markdown",
      "metadata": {
        "id": "ZSuG2q0lMKR1",
        "colab_type": "text"
      },
      "source": [
        "Next, let's convert the target variable into binary categories"
      ]
    },
    {
      "cell_type": "code",
      "metadata": {
        "id": "iUVfn9ohMKR4",
        "colab_type": "code",
        "colab": {}
      },
      "source": [
        "y_train = to_categorical(y_train)\n",
        "y_test = to_categorical(y_test)\n",
        "\n",
        "num_classes = y_test.shape[1] # number of categories"
      ],
      "execution_count": 0,
      "outputs": []
    },
    {
      "cell_type": "markdown",
      "metadata": {
        "id": "9o7Xb6nfMKR-",
        "colab_type": "text"
      },
      "source": [
        "Next, let's define a function that creates our model. Let's start with one set of convolutional and pooling layers."
      ]
    },
    {
      "cell_type": "code",
      "metadata": {
        "id": "6eiu4l3_MKR_",
        "colab_type": "code",
        "colab": {}
      },
      "source": [
        "def convolutional_model():\n",
        "    \n",
        "    # create model\n",
        "    model = Sequential()\n",
        "    model.add(Conv2D(16, (5, 5), strides=(1, 1), activation='relu', input_shape=(28, 28, 1)))\n",
        "    model.add(MaxPooling2D(pool_size=(2, 2), strides=(2, 2)))\n",
        "    \n",
        "    model.add(Flatten())\n",
        "    model.add(Dense(100, activation='relu'))\n",
        "    model.add(Dense(num_classes, activation='softmax'))\n",
        "    \n",
        "    # compile model\n",
        "    model.compile(optimizer='adam', loss='categorical_crossentropy',  metrics=['accuracy'])\n",
        "    return model"
      ],
      "execution_count": 0,
      "outputs": []
    },
    {
      "cell_type": "markdown",
      "metadata": {
        "id": "uPX_R6nOMKSD",
        "colab_type": "text"
      },
      "source": [
        "Finally, let's call the function to create the model, and then let's train it and evaluate it."
      ]
    },
    {
      "cell_type": "code",
      "metadata": {
        "id": "iL-4_zweMKSE",
        "colab_type": "code",
        "colab": {
          "base_uri": "https://localhost:8080/",
          "height": 444
        },
        "outputId": "27609383-fd0a-46db-ba47-d2e86527ce42"
      },
      "source": [
        "# build the model\n",
        "model = convolutional_model()\n",
        "\n",
        "# fit the model\n",
        "model.fit(X_train, y_train, validation_data=(X_test, y_test), epochs=10, batch_size=200, verbose=2)\n",
        "\n",
        "# evaluate the model\n",
        "scores = model.evaluate(X_test, y_test, verbose=0)\n",
        "print(\"Accuracy: {} \\n Error: {}\".format(scores[1], 100-scores[1]*100))"
      ],
      "execution_count": 7,
      "outputs": [
        {
          "output_type": "stream",
          "text": [
            "Train on 60000 samples, validate on 10000 samples\n",
            "Epoch 1/10\n",
            " - 18s - loss: 0.3026 - accuracy: 0.9151 - val_loss: 0.0994 - val_accuracy: 0.9725\n",
            "Epoch 2/10\n",
            " - 18s - loss: 0.0879 - accuracy: 0.9748 - val_loss: 0.0711 - val_accuracy: 0.9791\n",
            "Epoch 3/10\n",
            " - 18s - loss: 0.0593 - accuracy: 0.9830 - val_loss: 0.0520 - val_accuracy: 0.9837\n",
            "Epoch 4/10\n",
            " - 18s - loss: 0.0442 - accuracy: 0.9870 - val_loss: 0.0548 - val_accuracy: 0.9824\n",
            "Epoch 5/10\n",
            " - 18s - loss: 0.0358 - accuracy: 0.9894 - val_loss: 0.0406 - val_accuracy: 0.9869\n",
            "Epoch 6/10\n",
            " - 18s - loss: 0.0296 - accuracy: 0.9909 - val_loss: 0.0408 - val_accuracy: 0.9864\n",
            "Epoch 7/10\n",
            " - 18s - loss: 0.0243 - accuracy: 0.9926 - val_loss: 0.0382 - val_accuracy: 0.9883\n",
            "Epoch 8/10\n",
            " - 18s - loss: 0.0203 - accuracy: 0.9940 - val_loss: 0.0370 - val_accuracy: 0.9869\n",
            "Epoch 9/10\n",
            " - 18s - loss: 0.0174 - accuracy: 0.9943 - val_loss: 0.0342 - val_accuracy: 0.9893\n",
            "Epoch 10/10\n",
            " - 17s - loss: 0.0138 - accuracy: 0.9961 - val_loss: 0.0329 - val_accuracy: 0.9893\n",
            "Accuracy: 0.989300012588501 \n",
            " Error: 1.0699987411499023\n"
          ],
          "name": "stdout"
        }
      ]
    },
    {
      "cell_type": "markdown",
      "metadata": {
        "id": "kvNsPtUVMKSN",
        "colab_type": "text"
      },
      "source": [
        "------------------------------------------"
      ]
    },
    {
      "cell_type": "markdown",
      "metadata": {
        "id": "sDOmPdVrMKSO",
        "colab_type": "text"
      },
      "source": [
        "<a id='item43'></a>"
      ]
    },
    {
      "cell_type": "markdown",
      "metadata": {
        "id": "XQIF6jskMKSO",
        "colab_type": "text"
      },
      "source": [
        "## Convolutional Layer with two sets of convolutional and pooling layers"
      ]
    },
    {
      "cell_type": "markdown",
      "metadata": {
        "id": "7b3DXZjpMKSP",
        "colab_type": "text"
      },
      "source": [
        "Let's redefine our convolutional model so that it has two convolutional and pooling layers instead of just one layer of each."
      ]
    },
    {
      "cell_type": "code",
      "metadata": {
        "id": "GglYNac0MKSQ",
        "colab_type": "code",
        "colab": {}
      },
      "source": [
        "def convolutional_model():\n",
        "    \n",
        "    # create model\n",
        "    model = Sequential()\n",
        "    model.add(Conv2D(16, (5, 5), activation='relu', input_shape=(28, 28, 1)))\n",
        "    model.add(MaxPooling2D(pool_size=(2, 2), strides=(2, 2)))\n",
        "    \n",
        "    model.add(Conv2D(8, (2, 2), activation='relu'))\n",
        "    model.add(MaxPooling2D(pool_size=(2, 2), strides=(2, 2)))\n",
        "    \n",
        "    model.add(Flatten())\n",
        "    model.add(Dense(100, activation='relu'))\n",
        "    model.add(Dense(num_classes, activation='softmax'))\n",
        "    \n",
        "    # Compile model\n",
        "    model.compile(optimizer='adam', loss='categorical_crossentropy',  metrics=['accuracy'])\n",
        "    return model"
      ],
      "execution_count": 0,
      "outputs": []
    },
    {
      "cell_type": "markdown",
      "metadata": {
        "id": "1Ryp2rO4MKSU",
        "colab_type": "text"
      },
      "source": [
        "Now, let's call the function to create our new convolutional neural network, and then let's train it and evaluate it."
      ]
    },
    {
      "cell_type": "code",
      "metadata": {
        "id": "fSNJKNFdMKSV",
        "colab_type": "code",
        "colab": {
          "base_uri": "https://localhost:8080/",
          "height": 444
        },
        "outputId": "3269818b-9143-4648-d019-e385885fc12a"
      },
      "source": [
        "# build the model\n",
        "model = convolutional_model()\n",
        "\n",
        "# fit the model\n",
        "model.fit(X_train, y_train, validation_data=(X_test, y_test), epochs=10, batch_size=200, verbose=2)\n",
        "\n",
        "# evaluate the model\n",
        "scores = model.evaluate(X_test, y_test, verbose=0)\n",
        "print(\"Accuracy: {} \\n Error: {}\".format(scores[1], 100-scores[1]*100))"
      ],
      "execution_count": 9,
      "outputs": [
        {
          "output_type": "stream",
          "text": [
            "Train on 60000 samples, validate on 10000 samples\n",
            "Epoch 1/10\n",
            " - 19s - loss: 0.5009 - accuracy: 0.8529 - val_loss: 0.1539 - val_accuracy: 0.9552\n",
            "Epoch 2/10\n",
            " - 19s - loss: 0.1286 - accuracy: 0.9606 - val_loss: 0.0862 - val_accuracy: 0.9725\n",
            "Epoch 3/10\n",
            " - 19s - loss: 0.0882 - accuracy: 0.9732 - val_loss: 0.0719 - val_accuracy: 0.9778\n",
            "Epoch 4/10\n",
            " - 19s - loss: 0.0715 - accuracy: 0.9776 - val_loss: 0.0602 - val_accuracy: 0.9815\n",
            "Epoch 5/10\n",
            " - 19s - loss: 0.0586 - accuracy: 0.9820 - val_loss: 0.0556 - val_accuracy: 0.9830\n",
            "Epoch 6/10\n",
            " - 19s - loss: 0.0520 - accuracy: 0.9839 - val_loss: 0.0527 - val_accuracy: 0.9836\n",
            "Epoch 7/10\n",
            " - 19s - loss: 0.0476 - accuracy: 0.9852 - val_loss: 0.0476 - val_accuracy: 0.9844\n",
            "Epoch 8/10\n",
            " - 19s - loss: 0.0411 - accuracy: 0.9873 - val_loss: 0.0431 - val_accuracy: 0.9853\n",
            "Epoch 9/10\n",
            " - 19s - loss: 0.0388 - accuracy: 0.9882 - val_loss: 0.0452 - val_accuracy: 0.9872\n",
            "Epoch 10/10\n",
            " - 19s - loss: 0.0354 - accuracy: 0.9890 - val_loss: 0.0376 - val_accuracy: 0.9884\n",
            "Accuracy: 0.9883999824523926 \n",
            " Error: 1.1600017547607422\n"
          ],
          "name": "stdout"
        }
      ]
    },
    {
      "cell_type": "markdown",
      "metadata": {
        "id": "vjgvhoc1MKSf",
        "colab_type": "text"
      },
      "source": [
        "### Thank you for completing this lab!\n",
        "\n",
        "This notebook was created by [Alex Aklson](https://www.linkedin.com/in/aklson/). I hope you found this lab interesting and educational. Feel free to contact me if you have any questions!"
      ]
    },
    {
      "cell_type": "markdown",
      "metadata": {
        "id": "4BLdZs9LMKSg",
        "colab_type": "text"
      },
      "source": [
        "This notebook is part of a course on **Coursera** called *Introduction to Deep Learning & Neural Networks with Keras*. If you accessed this notebook outside the course, you can take this course online by clicking [here](https://cocl.us/DL0101EN_Coursera_Week4_LAB1)."
      ]
    },
    {
      "cell_type": "markdown",
      "metadata": {
        "id": "NxBj6LsTMKSg",
        "colab_type": "text"
      },
      "source": [
        "<hr>\n",
        "\n",
        "Copyright &copy; 2019 [IBM Developer Skills Network](https://cognitiveclass.ai/?utm_source=bducopyrightlink&utm_medium=dswb&utm_campaign=bdu). This notebook and its source code are released under the terms of the [MIT License](https://bigdatauniversity.com/mit-license/)."
      ]
    }
  ]
}