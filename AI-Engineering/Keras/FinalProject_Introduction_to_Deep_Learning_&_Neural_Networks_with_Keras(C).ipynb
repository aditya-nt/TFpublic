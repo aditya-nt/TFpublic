{
  "nbformat": 4,
  "nbformat_minor": 0,
  "metadata": {
    "colab": {
      "name": "FinalProject-Introduction to Deep Learning & Neural Networks with Keras(C).ipynb",
      "provenance": [],
      "authorship_tag": "ABX9TyOK2JN5ly4dlP+1FOwx9+gg",
      "include_colab_link": true
    },
    "kernelspec": {
      "name": "python3",
      "display_name": "Python 3"
    }
  },
  "cells": [
    {
      "cell_type": "markdown",
      "metadata": {
        "id": "view-in-github",
        "colab_type": "text"
      },
      "source": [
        "<a href=\"https://colab.research.google.com/github/aditya-nt/TFpublic/blob/master/AI-Engineering/Keras/FinalProject_Introduction_to_Deep_Learning_%26_Neural_Networks_with_Keras(C).ipynb\" target=\"_parent\"><img src=\"https://colab.research.google.com/assets/colab-badge.svg\" alt=\"Open In Colab\"/></a>"
      ]
    },
    {
      "cell_type": "code",
      "metadata": {
        "id": "fviBjutMVia8",
        "colab_type": "code",
        "colab": {
          "base_uri": "https://localhost:8080/",
          "height": 36
        },
        "outputId": "d4cf92d7-fa06-4215-b327-ac9dec6df842"
      },
      "source": [
        "import pandas as pd\n",
        "import numpy as np\n",
        "import keras\n",
        "from keras.models import Sequential\n",
        "from keras.layers import Dense"
      ],
      "execution_count": 1,
      "outputs": [
        {
          "output_type": "stream",
          "text": [
            "Using TensorFlow backend.\n"
          ],
          "name": "stderr"
        }
      ]
    },
    {
      "cell_type": "code",
      "metadata": {
        "id": "JXuqy83DWsK2",
        "colab_type": "code",
        "colab": {
          "base_uri": "https://localhost:8080/",
          "height": 206
        },
        "outputId": "ce5a35c2-d839-49f4-bedf-91e2962b6da9"
      },
      "source": [
        "concrete = pd.read_csv('concrete_data.csv')\n",
        "concrete.head()"
      ],
      "execution_count": 29,
      "outputs": [
        {
          "output_type": "execute_result",
          "data": {
            "text/html": [
              "<div>\n",
              "<style scoped>\n",
              "    .dataframe tbody tr th:only-of-type {\n",
              "        vertical-align: middle;\n",
              "    }\n",
              "\n",
              "    .dataframe tbody tr th {\n",
              "        vertical-align: top;\n",
              "    }\n",
              "\n",
              "    .dataframe thead th {\n",
              "        text-align: right;\n",
              "    }\n",
              "</style>\n",
              "<table border=\"1\" class=\"dataframe\">\n",
              "  <thead>\n",
              "    <tr style=\"text-align: right;\">\n",
              "      <th></th>\n",
              "      <th>Cement</th>\n",
              "      <th>Blast Furnace Slag</th>\n",
              "      <th>Fly Ash</th>\n",
              "      <th>Water</th>\n",
              "      <th>Superplasticizer</th>\n",
              "      <th>Coarse Aggregate</th>\n",
              "      <th>Fine Aggregate</th>\n",
              "      <th>Age</th>\n",
              "      <th>Strength</th>\n",
              "    </tr>\n",
              "  </thead>\n",
              "  <tbody>\n",
              "    <tr>\n",
              "      <th>0</th>\n",
              "      <td>540.0</td>\n",
              "      <td>0.0</td>\n",
              "      <td>0.0</td>\n",
              "      <td>162.0</td>\n",
              "      <td>2.5</td>\n",
              "      <td>1040.0</td>\n",
              "      <td>676.0</td>\n",
              "      <td>28</td>\n",
              "      <td>79.99</td>\n",
              "    </tr>\n",
              "    <tr>\n",
              "      <th>1</th>\n",
              "      <td>540.0</td>\n",
              "      <td>0.0</td>\n",
              "      <td>0.0</td>\n",
              "      <td>162.0</td>\n",
              "      <td>2.5</td>\n",
              "      <td>1055.0</td>\n",
              "      <td>676.0</td>\n",
              "      <td>28</td>\n",
              "      <td>61.89</td>\n",
              "    </tr>\n",
              "    <tr>\n",
              "      <th>2</th>\n",
              "      <td>332.5</td>\n",
              "      <td>142.5</td>\n",
              "      <td>0.0</td>\n",
              "      <td>228.0</td>\n",
              "      <td>0.0</td>\n",
              "      <td>932.0</td>\n",
              "      <td>594.0</td>\n",
              "      <td>270</td>\n",
              "      <td>40.27</td>\n",
              "    </tr>\n",
              "    <tr>\n",
              "      <th>3</th>\n",
              "      <td>332.5</td>\n",
              "      <td>142.5</td>\n",
              "      <td>0.0</td>\n",
              "      <td>228.0</td>\n",
              "      <td>0.0</td>\n",
              "      <td>932.0</td>\n",
              "      <td>594.0</td>\n",
              "      <td>365</td>\n",
              "      <td>41.05</td>\n",
              "    </tr>\n",
              "    <tr>\n",
              "      <th>4</th>\n",
              "      <td>198.6</td>\n",
              "      <td>132.4</td>\n",
              "      <td>0.0</td>\n",
              "      <td>192.0</td>\n",
              "      <td>0.0</td>\n",
              "      <td>978.4</td>\n",
              "      <td>825.5</td>\n",
              "      <td>360</td>\n",
              "      <td>44.30</td>\n",
              "    </tr>\n",
              "  </tbody>\n",
              "</table>\n",
              "</div>"
            ],
            "text/plain": [
              "   Cement  Blast Furnace Slag  Fly Ash  ...  Fine Aggregate  Age  Strength\n",
              "0   540.0                 0.0      0.0  ...           676.0   28     79.99\n",
              "1   540.0                 0.0      0.0  ...           676.0   28     61.89\n",
              "2   332.5               142.5      0.0  ...           594.0  270     40.27\n",
              "3   332.5               142.5      0.0  ...           594.0  365     41.05\n",
              "4   198.6               132.4      0.0  ...           825.5  360     44.30\n",
              "\n",
              "[5 rows x 9 columns]"
            ]
          },
          "metadata": {
            "tags": []
          },
          "execution_count": 29
        }
      ]
    },
    {
      "cell_type": "markdown",
      "metadata": {
        "id": "gh8_y6aga7Dx",
        "colab_type": "text"
      },
      "source": [
        "# Pre-processing"
      ]
    },
    {
      "cell_type": "code",
      "metadata": {
        "id": "as7eFLlRXPeK",
        "colab_type": "code",
        "colab": {
          "base_uri": "https://localhost:8080/",
          "height": 206
        },
        "outputId": "eb3c8a78-8f57-4db4-edf2-8c95ff8b049c"
      },
      "source": [
        "data = concrete\n",
        "labels = data.pop('Strength')\n",
        "data.head()"
      ],
      "execution_count": 30,
      "outputs": [
        {
          "output_type": "execute_result",
          "data": {
            "text/html": [
              "<div>\n",
              "<style scoped>\n",
              "    .dataframe tbody tr th:only-of-type {\n",
              "        vertical-align: middle;\n",
              "    }\n",
              "\n",
              "    .dataframe tbody tr th {\n",
              "        vertical-align: top;\n",
              "    }\n",
              "\n",
              "    .dataframe thead th {\n",
              "        text-align: right;\n",
              "    }\n",
              "</style>\n",
              "<table border=\"1\" class=\"dataframe\">\n",
              "  <thead>\n",
              "    <tr style=\"text-align: right;\">\n",
              "      <th></th>\n",
              "      <th>Cement</th>\n",
              "      <th>Blast Furnace Slag</th>\n",
              "      <th>Fly Ash</th>\n",
              "      <th>Water</th>\n",
              "      <th>Superplasticizer</th>\n",
              "      <th>Coarse Aggregate</th>\n",
              "      <th>Fine Aggregate</th>\n",
              "      <th>Age</th>\n",
              "    </tr>\n",
              "  </thead>\n",
              "  <tbody>\n",
              "    <tr>\n",
              "      <th>0</th>\n",
              "      <td>540.0</td>\n",
              "      <td>0.0</td>\n",
              "      <td>0.0</td>\n",
              "      <td>162.0</td>\n",
              "      <td>2.5</td>\n",
              "      <td>1040.0</td>\n",
              "      <td>676.0</td>\n",
              "      <td>28</td>\n",
              "    </tr>\n",
              "    <tr>\n",
              "      <th>1</th>\n",
              "      <td>540.0</td>\n",
              "      <td>0.0</td>\n",
              "      <td>0.0</td>\n",
              "      <td>162.0</td>\n",
              "      <td>2.5</td>\n",
              "      <td>1055.0</td>\n",
              "      <td>676.0</td>\n",
              "      <td>28</td>\n",
              "    </tr>\n",
              "    <tr>\n",
              "      <th>2</th>\n",
              "      <td>332.5</td>\n",
              "      <td>142.5</td>\n",
              "      <td>0.0</td>\n",
              "      <td>228.0</td>\n",
              "      <td>0.0</td>\n",
              "      <td>932.0</td>\n",
              "      <td>594.0</td>\n",
              "      <td>270</td>\n",
              "    </tr>\n",
              "    <tr>\n",
              "      <th>3</th>\n",
              "      <td>332.5</td>\n",
              "      <td>142.5</td>\n",
              "      <td>0.0</td>\n",
              "      <td>228.0</td>\n",
              "      <td>0.0</td>\n",
              "      <td>932.0</td>\n",
              "      <td>594.0</td>\n",
              "      <td>365</td>\n",
              "    </tr>\n",
              "    <tr>\n",
              "      <th>4</th>\n",
              "      <td>198.6</td>\n",
              "      <td>132.4</td>\n",
              "      <td>0.0</td>\n",
              "      <td>192.0</td>\n",
              "      <td>0.0</td>\n",
              "      <td>978.4</td>\n",
              "      <td>825.5</td>\n",
              "      <td>360</td>\n",
              "    </tr>\n",
              "  </tbody>\n",
              "</table>\n",
              "</div>"
            ],
            "text/plain": [
              "   Cement  Blast Furnace Slag  Fly Ash  ...  Coarse Aggregate  Fine Aggregate  Age\n",
              "0   540.0                 0.0      0.0  ...            1040.0           676.0   28\n",
              "1   540.0                 0.0      0.0  ...            1055.0           676.0   28\n",
              "2   332.5               142.5      0.0  ...             932.0           594.0  270\n",
              "3   332.5               142.5      0.0  ...             932.0           594.0  365\n",
              "4   198.6               132.4      0.0  ...             978.4           825.5  360\n",
              "\n",
              "[5 rows x 8 columns]"
            ]
          },
          "metadata": {
            "tags": []
          },
          "execution_count": 30
        }
      ]
    },
    {
      "cell_type": "code",
      "metadata": {
        "id": "0TiiPcSOaCrr",
        "colab_type": "code",
        "colab": {
          "base_uri": "https://localhost:8080/",
          "height": 128
        },
        "outputId": "cf609a3e-6d36-49b5-929c-560b1e18d477"
      },
      "source": [
        "labels.head()"
      ],
      "execution_count": 20,
      "outputs": [
        {
          "output_type": "execute_result",
          "data": {
            "text/plain": [
              "0    79.99\n",
              "1    61.89\n",
              "2    40.27\n",
              "3    41.05\n",
              "4    44.30\n",
              "Name: Strength, dtype: float64"
            ]
          },
          "metadata": {
            "tags": []
          },
          "execution_count": 20
        }
      ]
    },
    {
      "cell_type": "markdown",
      "metadata": {
        "id": "mB73f4FUfTEt",
        "colab_type": "text"
      },
      "source": [
        "# NORMALIZATION OF DATA  ---------------------- PART B"
      ]
    },
    {
      "cell_type": "code",
      "metadata": {
        "id": "FJwT3pYAfaD3",
        "colab_type": "code",
        "colab": {
          "base_uri": "https://localhost:8080/",
          "height": 206
        },
        "outputId": "3d2c7f82-9033-4203-b46a-eaa59e12c242"
      },
      "source": [
        "data_norm = (data - data.mean()) / data.std()\n",
        "data_norm.head()"
      ],
      "execution_count": 41,
      "outputs": [
        {
          "output_type": "execute_result",
          "data": {
            "text/html": [
              "<div>\n",
              "<style scoped>\n",
              "    .dataframe tbody tr th:only-of-type {\n",
              "        vertical-align: middle;\n",
              "    }\n",
              "\n",
              "    .dataframe tbody tr th {\n",
              "        vertical-align: top;\n",
              "    }\n",
              "\n",
              "    .dataframe thead th {\n",
              "        text-align: right;\n",
              "    }\n",
              "</style>\n",
              "<table border=\"1\" class=\"dataframe\">\n",
              "  <thead>\n",
              "    <tr style=\"text-align: right;\">\n",
              "      <th></th>\n",
              "      <th>Cement</th>\n",
              "      <th>Blast Furnace Slag</th>\n",
              "      <th>Fly Ash</th>\n",
              "      <th>Water</th>\n",
              "      <th>Superplasticizer</th>\n",
              "      <th>Coarse Aggregate</th>\n",
              "      <th>Fine Aggregate</th>\n",
              "      <th>Age</th>\n",
              "    </tr>\n",
              "  </thead>\n",
              "  <tbody>\n",
              "    <tr>\n",
              "      <th>0</th>\n",
              "      <td>2.476712</td>\n",
              "      <td>-0.856472</td>\n",
              "      <td>-0.846733</td>\n",
              "      <td>-0.916319</td>\n",
              "      <td>-0.620147</td>\n",
              "      <td>0.862735</td>\n",
              "      <td>-1.217079</td>\n",
              "      <td>-0.279597</td>\n",
              "    </tr>\n",
              "    <tr>\n",
              "      <th>1</th>\n",
              "      <td>2.476712</td>\n",
              "      <td>-0.856472</td>\n",
              "      <td>-0.846733</td>\n",
              "      <td>-0.916319</td>\n",
              "      <td>-0.620147</td>\n",
              "      <td>1.055651</td>\n",
              "      <td>-1.217079</td>\n",
              "      <td>-0.279597</td>\n",
              "    </tr>\n",
              "    <tr>\n",
              "      <th>2</th>\n",
              "      <td>0.491187</td>\n",
              "      <td>0.795140</td>\n",
              "      <td>-0.846733</td>\n",
              "      <td>2.174405</td>\n",
              "      <td>-1.038638</td>\n",
              "      <td>-0.526262</td>\n",
              "      <td>-2.239829</td>\n",
              "      <td>3.551340</td>\n",
              "    </tr>\n",
              "    <tr>\n",
              "      <th>3</th>\n",
              "      <td>0.491187</td>\n",
              "      <td>0.795140</td>\n",
              "      <td>-0.846733</td>\n",
              "      <td>2.174405</td>\n",
              "      <td>-1.038638</td>\n",
              "      <td>-0.526262</td>\n",
              "      <td>-2.239829</td>\n",
              "      <td>5.055221</td>\n",
              "    </tr>\n",
              "    <tr>\n",
              "      <th>4</th>\n",
              "      <td>-0.790075</td>\n",
              "      <td>0.678079</td>\n",
              "      <td>-0.846733</td>\n",
              "      <td>0.488555</td>\n",
              "      <td>-1.038638</td>\n",
              "      <td>0.070492</td>\n",
              "      <td>0.647569</td>\n",
              "      <td>4.976069</td>\n",
              "    </tr>\n",
              "  </tbody>\n",
              "</table>\n",
              "</div>"
            ],
            "text/plain": [
              "     Cement  Blast Furnace Slag  ...  Fine Aggregate       Age\n",
              "0  2.476712           -0.856472  ...       -1.217079 -0.279597\n",
              "1  2.476712           -0.856472  ...       -1.217079 -0.279597\n",
              "2  0.491187            0.795140  ...       -2.239829  3.551340\n",
              "3  0.491187            0.795140  ...       -2.239829  5.055221\n",
              "4 -0.790075            0.678079  ...        0.647569  4.976069\n",
              "\n",
              "[5 rows x 8 columns]"
            ]
          },
          "metadata": {
            "tags": []
          },
          "execution_count": 41
        }
      ]
    },
    {
      "cell_type": "markdown",
      "metadata": {
        "id": "f8PAItpYckaD",
        "colab_type": "text"
      },
      "source": [
        "# Training/Test Split"
      ]
    },
    {
      "cell_type": "code",
      "metadata": {
        "id": "8A3OFAE8WQh9",
        "colab_type": "code",
        "colab": {}
      },
      "source": [
        "from sklearn.model_selection import train_test_split"
      ],
      "execution_count": 0,
      "outputs": []
    },
    {
      "cell_type": "code",
      "metadata": {
        "id": "hjn7u63bWQiE",
        "colab_type": "code",
        "colab": {}
      },
      "source": [
        "X_train, X_test, y_train, y_test = train_test_split(data_norm, labels, test_size=0.3)"
      ],
      "execution_count": 0,
      "outputs": []
    },
    {
      "cell_type": "code",
      "metadata": {
        "id": "hE7Jt8rTWQhi",
        "colab_type": "code",
        "colab": {}
      },
      "source": [
        "input_shape = data.shape[1]"
      ],
      "execution_count": 0,
      "outputs": []
    },
    {
      "cell_type": "markdown",
      "metadata": {
        "id": "caQPmd23b6SR",
        "colab_type": "text"
      },
      "source": [
        "# Defining the Model\n"
      ]
    },
    {
      "cell_type": "code",
      "metadata": {
        "id": "mlj4WdPQWQht",
        "colab_type": "code",
        "colab": {}
      },
      "source": [
        "def regression_model():\n",
        "    model = Sequential()\n",
        "    model.add(Dense(10, activation='relu', input_shape=(input_shape,)))\n",
        "    model.add(Dense(1))\n",
        "    \n",
        "    model.compile(optimizer='adam', loss='mean_squared_error')\n",
        "    return model\n",
        "\n",
        "model = regression_model()"
      ],
      "execution_count": 0,
      "outputs": []
    },
    {
      "cell_type": "markdown",
      "metadata": {
        "id": "NCz0Je7rcMkB",
        "colab_type": "text"
      },
      "source": [
        "# Training the Model"
      ]
    },
    {
      "cell_type": "code",
      "metadata": {
        "id": "f8m5F6itWQiT",
        "colab_type": "code",
        "outputId": "04bcd540-a00f-431f-d6c0-2707ba4386bf",
        "colab": {
          "base_uri": "https://localhost:8080/",
          "height": 1000
        }
      },
      "source": [
        "EPOCHS = 50\n",
        "model.fit(X_train, y_train, epochs=EPOCHS, verbose=2)"
      ],
      "execution_count": 47,
      "outputs": [
        {
          "output_type": "stream",
          "text": [
            "Epoch 1/50\n",
            " - 0s - loss: 1562.5290\n",
            "Epoch 2/50\n",
            " - 0s - loss: 1546.6083\n",
            "Epoch 3/50\n",
            " - 0s - loss: 1530.5512\n",
            "Epoch 4/50\n",
            " - 0s - loss: 1514.6730\n",
            "Epoch 5/50\n",
            " - 0s - loss: 1498.6056\n",
            "Epoch 6/50\n",
            " - 0s - loss: 1482.2353\n",
            "Epoch 7/50\n",
            " - 0s - loss: 1465.4886\n",
            "Epoch 8/50\n",
            " - 0s - loss: 1448.2208\n",
            "Epoch 9/50\n",
            " - 0s - loss: 1430.0819\n",
            "Epoch 10/50\n",
            " - 0s - loss: 1411.2308\n",
            "Epoch 11/50\n",
            " - 0s - loss: 1391.4389\n",
            "Epoch 12/50\n",
            " - 0s - loss: 1370.2782\n",
            "Epoch 13/50\n",
            " - 0s - loss: 1348.1355\n",
            "Epoch 14/50\n",
            " - 0s - loss: 1325.0421\n",
            "Epoch 15/50\n",
            " - 0s - loss: 1300.5426\n",
            "Epoch 16/50\n",
            " - 0s - loss: 1275.4210\n",
            "Epoch 17/50\n",
            " - 0s - loss: 1248.8912\n",
            "Epoch 18/50\n",
            " - 0s - loss: 1221.4398\n",
            "Epoch 19/50\n",
            " - 0s - loss: 1193.2033\n",
            "Epoch 20/50\n",
            " - 0s - loss: 1164.3431\n",
            "Epoch 21/50\n",
            " - 0s - loss: 1134.3118\n",
            "Epoch 22/50\n",
            " - 0s - loss: 1104.2089\n",
            "Epoch 23/50\n",
            " - 0s - loss: 1073.1431\n",
            "Epoch 24/50\n",
            " - 0s - loss: 1042.0165\n",
            "Epoch 25/50\n",
            " - 0s - loss: 1010.6056\n",
            "Epoch 26/50\n",
            " - 0s - loss: 978.6473\n",
            "Epoch 27/50\n",
            " - 0s - loss: 947.1606\n",
            "Epoch 28/50\n",
            " - 0s - loss: 916.0058\n",
            "Epoch 29/50\n",
            " - 0s - loss: 884.4644\n",
            "Epoch 30/50\n",
            " - 0s - loss: 853.2814\n",
            "Epoch 31/50\n",
            " - 0s - loss: 823.0246\n",
            "Epoch 32/50\n",
            " - 0s - loss: 792.8942\n",
            "Epoch 33/50\n",
            " - 0s - loss: 763.4790\n",
            "Epoch 34/50\n",
            " - 0s - loss: 734.3293\n",
            "Epoch 35/50\n",
            " - 0s - loss: 706.4452\n",
            "Epoch 36/50\n",
            " - 0s - loss: 679.2536\n",
            "Epoch 37/50\n",
            " - 0s - loss: 652.5682\n",
            "Epoch 38/50\n",
            " - 0s - loss: 627.0444\n",
            "Epoch 39/50\n",
            " - 0s - loss: 602.1354\n",
            "Epoch 40/50\n",
            " - 0s - loss: 578.4714\n",
            "Epoch 41/50\n",
            " - 0s - loss: 555.5087\n",
            "Epoch 42/50\n",
            " - 0s - loss: 533.4889\n",
            "Epoch 43/50\n",
            " - 0s - loss: 512.5449\n",
            "Epoch 44/50\n",
            " - 0s - loss: 492.2867\n",
            "Epoch 45/50\n",
            " - 0s - loss: 473.1778\n",
            "Epoch 46/50\n",
            " - 0s - loss: 454.9384\n",
            "Epoch 47/50\n",
            " - 0s - loss: 437.6370\n",
            "Epoch 48/50\n",
            " - 0s - loss: 421.3193\n",
            "Epoch 49/50\n",
            " - 0s - loss: 405.7472\n",
            "Epoch 50/50\n",
            " - 0s - loss: 391.2595\n"
          ],
          "name": "stdout"
        },
        {
          "output_type": "execute_result",
          "data": {
            "text/plain": [
              "<keras.callbacks.callbacks.History at 0x7fa863b054a8>"
            ]
          },
          "metadata": {
            "tags": []
          },
          "execution_count": 47
        }
      ]
    },
    {
      "cell_type": "code",
      "metadata": {
        "id": "w0FO2eDtWQif",
        "colab_type": "code",
        "outputId": "a1b30c5b-6f89-40a7-9209-93a1a36c5b12",
        "colab": {
          "base_uri": "https://localhost:8080/",
          "height": 54
        }
      },
      "source": [
        "loss_val = model.evaluate(X_test, y_test)\n",
        "y_pred = model.predict(X_test)\n",
        "loss_val"
      ],
      "execution_count": 48,
      "outputs": [
        {
          "output_type": "stream",
          "text": [
            "309/309 [==============================] - 0s 48us/step\n"
          ],
          "name": "stdout"
        },
        {
          "output_type": "execute_result",
          "data": {
            "text/plain": [
              "442.8009228752655"
            ]
          },
          "metadata": {
            "tags": []
          },
          "execution_count": 48
        }
      ]
    },
    {
      "cell_type": "code",
      "metadata": {
        "id": "RNtejwHZWQiu",
        "colab_type": "code",
        "colab": {}
      },
      "source": [
        "from sklearn.metrics import mean_squared_error"
      ],
      "execution_count": 0,
      "outputs": []
    },
    {
      "cell_type": "code",
      "metadata": {
        "id": "bn2RQvAvWQi0",
        "colab_type": "code",
        "outputId": "88dc523b-c60a-407b-b02a-95635faa2ea4",
        "colab": {
          "base_uri": "https://localhost:8080/",
          "height": 36
        }
      },
      "source": [
        "mean_square_error = mean_squared_error(y_test, y_pred)\n",
        "mean = np.mean(mean_square_error)\n",
        "standard_deviation = np.std(mean_square_error)\n",
        "print(mean, standard_deviation)"
      ],
      "execution_count": 50,
      "outputs": [
        {
          "output_type": "stream",
          "text": [
            "442.8009202684738 0.0\n"
          ],
          "name": "stdout"
        }
      ]
    },
    {
      "cell_type": "markdown",
      "metadata": {
        "id": "3PIv5C-dgklm",
        "colab_type": "text"
      },
      "source": [
        "# Repeatation for 100 EPOCHS"
      ]
    },
    {
      "cell_type": "code",
      "metadata": {
        "id": "t71OCj82WQi9",
        "colab_type": "code",
        "outputId": "3c1bdcc9-5326-4391-b5a3-42779317eb05",
        "colab": {
          "base_uri": "https://localhost:8080/",
          "height": 1000
        }
      },
      "source": [
        "total_mean_squared_errors = 50\n",
        "epochs = 100\n",
        "mean_squared_errors = []\n",
        "for i in range(0, total_mean_squared_errors):\n",
        "    X_train, X_test, y_train, y_test = train_test_split(data_norm, labels, test_size=0.3, random_state=i)\n",
        "    model.fit(X_train, y_train, epochs=epochs, verbose=0)\n",
        "    MSE = model.evaluate(X_test, y_test, verbose=0)\n",
        "    print(\"Mean Squared Error \"+str(i+1)+\": \"+str(MSE))\n",
        "    y_pred = model.predict(X_test)\n",
        "    mean_square_error = mean_squared_error(y_test, y_pred)\n",
        "    mean_squared_errors.append(mean_square_error)\n",
        "\n",
        "mean_squared_errors = np.array(mean_squared_errors)\n",
        "mean = np.mean(mean_squared_errors)\n",
        "standard_deviation = np.std(mean_squared_errors)\n",
        "\n",
        "print()\n",
        "print(\"Mean: \"+str(mean))\n",
        "print(\"Standard Deviation: \"+str(standard_deviation))"
      ],
      "execution_count": 53,
      "outputs": [
        {
          "output_type": "stream",
          "text": [
            "Mean Squared Error 1: 28.13744660411452\n",
            "Mean Squared Error 2: 29.896730515563373\n",
            "Mean Squared Error 3: 23.132201062051223\n",
            "Mean Squared Error 4: 26.780419031778973\n",
            "Mean Squared Error 5: 27.622074238304954\n",
            "Mean Squared Error 6: 30.186618669133356\n",
            "Mean Squared Error 7: 30.969803905795693\n",
            "Mean Squared Error 8: 26.465690365886996\n",
            "Mean Squared Error 9: 27.11450036058148\n",
            "Mean Squared Error 10: 25.954542376076905\n",
            "Mean Squared Error 11: 28.113934211360597\n",
            "Mean Squared Error 12: 24.675438593892217\n",
            "Mean Squared Error 13: 30.316260816209912\n",
            "Mean Squared Error 14: 32.191662995174866\n",
            "Mean Squared Error 15: 26.092508816024633\n",
            "Mean Squared Error 16: 23.69786753855091\n",
            "Mean Squared Error 17: 28.438405496788643\n",
            "Mean Squared Error 18: 27.92397864505311\n",
            "Mean Squared Error 19: 26.070856051151807\n",
            "Mean Squared Error 20: 28.08946032971626\n",
            "Mean Squared Error 21: 28.00190945967887\n",
            "Mean Squared Error 22: 25.93702452699729\n",
            "Mean Squared Error 23: 24.621036443123927\n",
            "Mean Squared Error 24: 24.97494835838145\n",
            "Mean Squared Error 25: 29.04095875946835\n",
            "Mean Squared Error 26: 28.90834302192367\n",
            "Mean Squared Error 27: 24.98568975578234\n",
            "Mean Squared Error 28: 25.31067334641145\n",
            "Mean Squared Error 29: 30.678263901892603\n",
            "Mean Squared Error 30: 28.922353954376913\n",
            "Mean Squared Error 31: 25.986086015176618\n",
            "Mean Squared Error 32: 23.770068134690565\n",
            "Mean Squared Error 33: 24.082406639667006\n",
            "Mean Squared Error 34: 27.60543899165774\n",
            "Mean Squared Error 35: 27.066642539015096\n",
            "Mean Squared Error 36: 32.71996516625858\n",
            "Mean Squared Error 37: 24.989600298859926\n",
            "Mean Squared Error 38: 29.12150045351689\n",
            "Mean Squared Error 39: 27.08992122292133\n",
            "Mean Squared Error 40: 24.938197663686807\n",
            "Mean Squared Error 41: 31.07322584232466\n",
            "Mean Squared Error 42: 25.391851764666608\n",
            "Mean Squared Error 43: 25.6331743160112\n",
            "Mean Squared Error 44: 30.446687284796756\n",
            "Mean Squared Error 45: 26.52911491764402\n",
            "Mean Squared Error 46: 29.45566030459111\n",
            "Mean Squared Error 47: 27.348856990777172\n",
            "Mean Squared Error 48: 28.54222342728797\n",
            "Mean Squared Error 49: 30.211009127422443\n",
            "Mean Squared Error 50: 28.768856931272833\n",
            "\n",
            "Mean: 27.480441441608036\n",
            "Standard Deviation: 2.310662162960951\n"
          ],
          "name": "stdout"
        }
      ]
    },
    {
      "cell_type": "markdown",
      "metadata": {
        "id": "5PVOOhgpdywm",
        "colab_type": "text"
      },
      "source": [
        "# This result is with 100 epochs"
      ]
    }
  ]
}